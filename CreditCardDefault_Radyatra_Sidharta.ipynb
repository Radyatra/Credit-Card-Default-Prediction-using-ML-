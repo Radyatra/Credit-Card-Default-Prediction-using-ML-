{
 "cells": [
  {
   "cell_type": "markdown",
   "metadata": {},
   "source": [
    "# **Credit Card Default Prediction using Machine Learning**\n",
    "\n",
    "By Radyatra Sidharta"
   ]
  },
  {
   "cell_type": "markdown",
   "metadata": {},
   "source": [
    "## I. Introduction\n",
    "\n",
    "### a. Table of Content\n",
    "- I. Introduction\n",
    "    - a. Table of Content\n",
    "    - b. Objective\n",
    "    - c. Conceptual Problems\n",
    "    - d. Google Cloud Query\n",
    "\n",
    "- II. Library Import\n",
    "\n",
    "- III. Data Loading\n",
    "\n",
    "- IV. Exploratory Data Analysis (EDA)\n",
    "\n",
    "- V. Data Preprocessing\n",
    "    - a. Feature Selection\n",
    "    - b. Dataframe Splitting\n",
    "    - c. Outlier Handling\n",
    "    - d. Splitting Dataframe between Independent Variable \"X\" (Features) and Dependent Variable \"y\" (Target)\n",
    "\n",
    "- VI. Model Definition\n",
    "    - a. Logistic Regression\n",
    "    - b. Support Vector Machines (SVM)\n",
    "    - c. Decision Tree\n",
    "    - d. Random Forest\n",
    "    - e. K-Nearest Neighbors (KNN)\n",
    "    - f. Naive Bayes\n",
    "    - g. AdaBoost\n",
    "\n",
    "- VII. Model Training\n",
    "    - a. Logistic Regression\n",
    "    - b. Support Vector Machines (SVM)\n",
    "    - c. Decision Tree\n",
    "    - d. Random Forest\n",
    "    - e. K-Nearest Neighbors (KNN)\n",
    "    - f. Naive Bayes\n",
    "    - g. AdaBoost\n",
    "\n",
    "- VIII. Model Evaluation\n",
    "    - a. Logistic Regression\n",
    "    - b. Support Vector Machines (SVM)\n",
    "    - c. Decision Tree\n",
    "    - d. Random Forest\n",
    "    - e. K-Nearest Neighbors (KNN)\n",
    "    - f. Naive Bayes\n",
    "    - g. AdaBoost\n",
    "\n",
    "- IX. Model Improvement\n",
    "- X. Model Inference\n",
    "- XI. Conclusion\n",
    "- XII. Conceptual Problems\n",
    "\n",
    "### b. Objective\n",
    "\n",
    "Create a Classification model to predict credit card default using given dataset.\n",
    "\n",
    "### c. Google Cloud Query\n",
    "\n",
    "SELECT limit_balance, sex, education_level, marital_status, age, pay_0, pay_2, pay_3, pay_4, pay_5, pay_6, bill_amt_1, bill_amt_2, bill_amt_3, bill_amt_4, bill_amt_5, bill_amt_6, pay_amt_1, pay_amt_2, pay_amt_3, pay_amt_4, pay_amt_5, pay_amt_6, default_payment_next_month \n",
    "FROM `bigquery-public-data.ml_datasets.credit_card_default` \n",
    "LIMIT 29955\n"
   ]
  },
  {
   "cell_type": "markdown",
   "metadata": {},
   "source": [
    "## II. Library Import"
   ]
  },
  {
   "cell_type": "code",
   "execution_count": 23,
   "metadata": {},
   "outputs": [],
   "source": [
    "# Define Libraries\n",
    "\n",
    "import pandas as pd\n",
    "import numpy as np\n",
    "import matplotlib.pyplot as plt\n",
    "%matplotlib inline\n",
    "import seaborn as sns\n",
    "from scipy import stats\n",
    "import phik\n",
    "\n",
    "import warnings\n",
    "warnings.filterwarnings('ignore')\n",
    "\n",
    "# For EDA\n",
    "from statistics import mode\n",
    "\n",
    "# For Models\n",
    "from sklearn.linear_model import LogisticRegression\n",
    "from sklearn.svm import SVC\n",
    "from sklearn.tree import DecisionTreeClassifier\n",
    "from sklearn.tree import export_graphviz\n",
    "from sklearn.ensemble import RandomForestClassifier\n",
    "from sklearn.neighbors import NearestNeighbors, KNeighborsClassifier\n",
    "from sklearn.naive_bayes import GaussianNB\n",
    "from sklearn.ensemble import AdaBoostClassifier\n",
    "\n",
    "# Split Dataset and Standarize the Datasets\n",
    "from sklearn.model_selection import train_test_split\n",
    "\n",
    "# Calculate the Variance Inflation Factor\n",
    "from statsmodels.stats.outliers_influence import variance_inflation_factor\n",
    "\n",
    "# Split between Train-Set and Test-Set\n",
    "from sklearn.model_selection import train_test_split\n",
    "\n",
    "# To Evaluate and Improve Models\n",
    "from sklearn import metrics\n",
    "from sklearn.metrics import accuracy_score,classification_report,ConfusionMatrixDisplay,confusion_matrix, roc_auc_score\n",
    "from sklearn.model_selection import cross_val_score\n",
    "from sklearn.model_selection import StratifiedKFold\n",
    "from sklearn.model_selection import GridSearchCV"
   ]
  },
  {
   "cell_type": "markdown",
   "metadata": {},
   "source": [
    "## III. Data Loading"
   ]
  },
  {
   "cell_type": "code",
   "execution_count": 24,
   "metadata": {},
   "outputs": [
    {
     "data": {
      "text/html": [
       "<div>\n",
       "<style scoped>\n",
       "    .dataframe tbody tr th:only-of-type {\n",
       "        vertical-align: middle;\n",
       "    }\n",
       "\n",
       "    .dataframe tbody tr th {\n",
       "        vertical-align: top;\n",
       "    }\n",
       "\n",
       "    .dataframe thead th {\n",
       "        text-align: right;\n",
       "    }\n",
       "</style>\n",
       "<table border=\"1\" class=\"dataframe\">\n",
       "  <thead>\n",
       "    <tr style=\"text-align: right;\">\n",
       "      <th></th>\n",
       "      <th>limit_balance</th>\n",
       "      <th>sex</th>\n",
       "      <th>education_level</th>\n",
       "      <th>marital_status</th>\n",
       "      <th>age</th>\n",
       "      <th>pay_0</th>\n",
       "      <th>pay_2</th>\n",
       "      <th>pay_3</th>\n",
       "      <th>pay_4</th>\n",
       "      <th>pay_5</th>\n",
       "      <th>...</th>\n",
       "      <th>bill_amt_4</th>\n",
       "      <th>bill_amt_5</th>\n",
       "      <th>bill_amt_6</th>\n",
       "      <th>pay_amt_1</th>\n",
       "      <th>pay_amt_2</th>\n",
       "      <th>pay_amt_3</th>\n",
       "      <th>pay_amt_4</th>\n",
       "      <th>pay_amt_5</th>\n",
       "      <th>pay_amt_6</th>\n",
       "      <th>default_payment_next_month</th>\n",
       "    </tr>\n",
       "  </thead>\n",
       "  <tbody>\n",
       "    <tr>\n",
       "      <th>0</th>\n",
       "      <td>50000</td>\n",
       "      <td>1</td>\n",
       "      <td>1</td>\n",
       "      <td>2</td>\n",
       "      <td>39</td>\n",
       "      <td>0</td>\n",
       "      <td>0</td>\n",
       "      <td>0</td>\n",
       "      <td>0</td>\n",
       "      <td>0</td>\n",
       "      <td>...</td>\n",
       "      <td>50803</td>\n",
       "      <td>30789</td>\n",
       "      <td>15874</td>\n",
       "      <td>1800</td>\n",
       "      <td>2000</td>\n",
       "      <td>3000</td>\n",
       "      <td>2000</td>\n",
       "      <td>2000</td>\n",
       "      <td>2000</td>\n",
       "      <td>0</td>\n",
       "    </tr>\n",
       "    <tr>\n",
       "      <th>1</th>\n",
       "      <td>110000</td>\n",
       "      <td>2</td>\n",
       "      <td>1</td>\n",
       "      <td>2</td>\n",
       "      <td>29</td>\n",
       "      <td>0</td>\n",
       "      <td>0</td>\n",
       "      <td>0</td>\n",
       "      <td>0</td>\n",
       "      <td>0</td>\n",
       "      <td>...</td>\n",
       "      <td>32489</td>\n",
       "      <td>26354</td>\n",
       "      <td>20221</td>\n",
       "      <td>2000</td>\n",
       "      <td>2010</td>\n",
       "      <td>3000</td>\n",
       "      <td>3000</td>\n",
       "      <td>3000</td>\n",
       "      <td>1000</td>\n",
       "      <td>0</td>\n",
       "    </tr>\n",
       "    <tr>\n",
       "      <th>2</th>\n",
       "      <td>270000</td>\n",
       "      <td>1</td>\n",
       "      <td>1</td>\n",
       "      <td>2</td>\n",
       "      <td>36</td>\n",
       "      <td>0</td>\n",
       "      <td>0</td>\n",
       "      <td>0</td>\n",
       "      <td>2</td>\n",
       "      <td>0</td>\n",
       "      <td>...</td>\n",
       "      <td>40335</td>\n",
       "      <td>37165</td>\n",
       "      <td>22156</td>\n",
       "      <td>10076</td>\n",
       "      <td>4018</td>\n",
       "      <td>14</td>\n",
       "      <td>2051</td>\n",
       "      <td>2000</td>\n",
       "      <td>0</td>\n",
       "      <td>0</td>\n",
       "    </tr>\n",
       "    <tr>\n",
       "      <th>3</th>\n",
       "      <td>130000</td>\n",
       "      <td>1</td>\n",
       "      <td>1</td>\n",
       "      <td>1</td>\n",
       "      <td>45</td>\n",
       "      <td>0</td>\n",
       "      <td>0</td>\n",
       "      <td>0</td>\n",
       "      <td>0</td>\n",
       "      <td>0</td>\n",
       "      <td>...</td>\n",
       "      <td>62377</td>\n",
       "      <td>63832</td>\n",
       "      <td>65099</td>\n",
       "      <td>2886</td>\n",
       "      <td>2908</td>\n",
       "      <td>2129</td>\n",
       "      <td>2354</td>\n",
       "      <td>2366</td>\n",
       "      <td>2291</td>\n",
       "      <td>0</td>\n",
       "    </tr>\n",
       "    <tr>\n",
       "      <th>4</th>\n",
       "      <td>50000</td>\n",
       "      <td>1</td>\n",
       "      <td>1</td>\n",
       "      <td>2</td>\n",
       "      <td>24</td>\n",
       "      <td>0</td>\n",
       "      <td>0</td>\n",
       "      <td>0</td>\n",
       "      <td>0</td>\n",
       "      <td>0</td>\n",
       "      <td>...</td>\n",
       "      <td>19837</td>\n",
       "      <td>19855</td>\n",
       "      <td>20151</td>\n",
       "      <td>1367</td>\n",
       "      <td>1606</td>\n",
       "      <td>692</td>\n",
       "      <td>709</td>\n",
       "      <td>721</td>\n",
       "      <td>692</td>\n",
       "      <td>0</td>\n",
       "    </tr>\n",
       "    <tr>\n",
       "      <th>...</th>\n",
       "      <td>...</td>\n",
       "      <td>...</td>\n",
       "      <td>...</td>\n",
       "      <td>...</td>\n",
       "      <td>...</td>\n",
       "      <td>...</td>\n",
       "      <td>...</td>\n",
       "      <td>...</td>\n",
       "      <td>...</td>\n",
       "      <td>...</td>\n",
       "      <td>...</td>\n",
       "      <td>...</td>\n",
       "      <td>...</td>\n",
       "      <td>...</td>\n",
       "      <td>...</td>\n",
       "      <td>...</td>\n",
       "      <td>...</td>\n",
       "      <td>...</td>\n",
       "      <td>...</td>\n",
       "      <td>...</td>\n",
       "      <td>...</td>\n",
       "    </tr>\n",
       "    <tr>\n",
       "      <th>2960</th>\n",
       "      <td>210000</td>\n",
       "      <td>2</td>\n",
       "      <td>2</td>\n",
       "      <td>1</td>\n",
       "      <td>39</td>\n",
       "      <td>-1</td>\n",
       "      <td>-1</td>\n",
       "      <td>-1</td>\n",
       "      <td>-1</td>\n",
       "      <td>-2</td>\n",
       "      <td>...</td>\n",
       "      <td>0</td>\n",
       "      <td>0</td>\n",
       "      <td>12000</td>\n",
       "      <td>0</td>\n",
       "      <td>28428</td>\n",
       "      <td>0</td>\n",
       "      <td>0</td>\n",
       "      <td>12000</td>\n",
       "      <td>33664</td>\n",
       "      <td>0</td>\n",
       "    </tr>\n",
       "    <tr>\n",
       "      <th>2961</th>\n",
       "      <td>280000</td>\n",
       "      <td>2</td>\n",
       "      <td>1</td>\n",
       "      <td>1</td>\n",
       "      <td>41</td>\n",
       "      <td>2</td>\n",
       "      <td>-1</td>\n",
       "      <td>-1</td>\n",
       "      <td>-1</td>\n",
       "      <td>-2</td>\n",
       "      <td>...</td>\n",
       "      <td>0</td>\n",
       "      <td>0</td>\n",
       "      <td>244</td>\n",
       "      <td>6859</td>\n",
       "      <td>486</td>\n",
       "      <td>0</td>\n",
       "      <td>0</td>\n",
       "      <td>244</td>\n",
       "      <td>0</td>\n",
       "      <td>0</td>\n",
       "    </tr>\n",
       "    <tr>\n",
       "      <th>2962</th>\n",
       "      <td>80000</td>\n",
       "      <td>1</td>\n",
       "      <td>1</td>\n",
       "      <td>2</td>\n",
       "      <td>28</td>\n",
       "      <td>1</td>\n",
       "      <td>-1</td>\n",
       "      <td>-1</td>\n",
       "      <td>-1</td>\n",
       "      <td>-2</td>\n",
       "      <td>...</td>\n",
       "      <td>0</td>\n",
       "      <td>0</td>\n",
       "      <td>0</td>\n",
       "      <td>47</td>\n",
       "      <td>207</td>\n",
       "      <td>0</td>\n",
       "      <td>0</td>\n",
       "      <td>0</td>\n",
       "      <td>0</td>\n",
       "      <td>0</td>\n",
       "    </tr>\n",
       "    <tr>\n",
       "      <th>2963</th>\n",
       "      <td>200000</td>\n",
       "      <td>1</td>\n",
       "      <td>2</td>\n",
       "      <td>1</td>\n",
       "      <td>53</td>\n",
       "      <td>1</td>\n",
       "      <td>-1</td>\n",
       "      <td>-1</td>\n",
       "      <td>-2</td>\n",
       "      <td>-2</td>\n",
       "      <td>...</td>\n",
       "      <td>0</td>\n",
       "      <td>0</td>\n",
       "      <td>6753</td>\n",
       "      <td>2920</td>\n",
       "      <td>0</td>\n",
       "      <td>0</td>\n",
       "      <td>0</td>\n",
       "      <td>6753</td>\n",
       "      <td>0</td>\n",
       "      <td>1</td>\n",
       "    </tr>\n",
       "    <tr>\n",
       "      <th>2964</th>\n",
       "      <td>20000</td>\n",
       "      <td>2</td>\n",
       "      <td>1</td>\n",
       "      <td>2</td>\n",
       "      <td>24</td>\n",
       "      <td>-1</td>\n",
       "      <td>-1</td>\n",
       "      <td>-2</td>\n",
       "      <td>-2</td>\n",
       "      <td>-2</td>\n",
       "      <td>...</td>\n",
       "      <td>0</td>\n",
       "      <td>0</td>\n",
       "      <td>0</td>\n",
       "      <td>0</td>\n",
       "      <td>0</td>\n",
       "      <td>0</td>\n",
       "      <td>0</td>\n",
       "      <td>0</td>\n",
       "      <td>0</td>\n",
       "      <td>0</td>\n",
       "    </tr>\n",
       "  </tbody>\n",
       "</table>\n",
       "<p>2965 rows × 24 columns</p>\n",
       "</div>"
      ],
      "text/plain": [
       "      limit_balance  sex  education_level  marital_status  age  pay_0  pay_2  \\\n",
       "0             50000    1                1               2   39      0      0   \n",
       "1            110000    2                1               2   29      0      0   \n",
       "2            270000    1                1               2   36      0      0   \n",
       "3            130000    1                1               1   45      0      0   \n",
       "4             50000    1                1               2   24      0      0   \n",
       "...             ...  ...              ...             ...  ...    ...    ...   \n",
       "2960         210000    2                2               1   39     -1     -1   \n",
       "2961         280000    2                1               1   41      2     -1   \n",
       "2962          80000    1                1               2   28      1     -1   \n",
       "2963         200000    1                2               1   53      1     -1   \n",
       "2964          20000    2                1               2   24     -1     -1   \n",
       "\n",
       "      pay_3  pay_4  pay_5  ...  bill_amt_4  bill_amt_5  bill_amt_6  pay_amt_1  \\\n",
       "0         0      0      0  ...       50803       30789       15874       1800   \n",
       "1         0      0      0  ...       32489       26354       20221       2000   \n",
       "2         0      2      0  ...       40335       37165       22156      10076   \n",
       "3         0      0      0  ...       62377       63832       65099       2886   \n",
       "4         0      0      0  ...       19837       19855       20151       1367   \n",
       "...     ...    ...    ...  ...         ...         ...         ...        ...   \n",
       "2960     -1     -1     -2  ...           0           0       12000          0   \n",
       "2961     -1     -1     -2  ...           0           0         244       6859   \n",
       "2962     -1     -1     -2  ...           0           0           0         47   \n",
       "2963     -1     -2     -2  ...           0           0        6753       2920   \n",
       "2964     -2     -2     -2  ...           0           0           0          0   \n",
       "\n",
       "      pay_amt_2  pay_amt_3  pay_amt_4  pay_amt_5  pay_amt_6  \\\n",
       "0          2000       3000       2000       2000       2000   \n",
       "1          2010       3000       3000       3000       1000   \n",
       "2          4018         14       2051       2000          0   \n",
       "3          2908       2129       2354       2366       2291   \n",
       "4          1606        692        709        721        692   \n",
       "...         ...        ...        ...        ...        ...   \n",
       "2960      28428          0          0      12000      33664   \n",
       "2961        486          0          0        244          0   \n",
       "2962        207          0          0          0          0   \n",
       "2963          0          0          0       6753          0   \n",
       "2964          0          0          0          0          0   \n",
       "\n",
       "      default_payment_next_month  \n",
       "0                              0  \n",
       "1                              0  \n",
       "2                              0  \n",
       "3                              0  \n",
       "4                              0  \n",
       "...                          ...  \n",
       "2960                           0  \n",
       "2961                           0  \n",
       "2962                           0  \n",
       "2963                           1  \n",
       "2964                           0  \n",
       "\n",
       "[2965 rows x 24 columns]"
      ]
     },
     "execution_count": 24,
     "metadata": {},
     "output_type": "execute_result"
    }
   ],
   "source": [
    "# Loading the csv file using pd.read.\n",
    "df = pd.read_csv('data.csv')\n",
    "df"
   ]
  },
  {
   "cell_type": "markdown",
   "metadata": {},
   "source": [
    "The dataframe above describes entries of credit card users, in which data regarding their montly repayment status, monthly bill statements, and monthly past payments are put into focus. With additional personal information on the card holders inputted as well, we are required to create a Supervised Machine Learning model that can predict whether or not a specific customer would default on their next monthly payment. \n",
    "\n",
    "Defaulting is defined as an occurence where a borrower / loanee stops making the required payments on a debt.\n",
    "\n",
    "Reference: https://bit.ly/3Bmnp6n\n",
    "\n",
    "We have as much as 2965 data entries for each of our 24 columns."
   ]
  },
  {
   "cell_type": "markdown",
   "metadata": {},
   "source": [
    "## IV. Exploratory Data Analysis (EDA)"
   ]
  },
  {
   "cell_type": "markdown",
   "metadata": {},
   "source": [
    "The target output (dependent variable) of our model is binary, meaning it only has two states No or Yes (0 or 1). Therefore, this is identified as classification problem. Hence, we will be using Supervised Classification Machine Learning as well as Ensemble Learning models.\n",
    "\n",
    "However, before we dive into the creation of the model, we must first explore and analyze the data to look for patterns and the kind that would help us in identifying key parameters to be used."
   ]
  },
  {
   "cell_type": "code",
   "execution_count": 25,
   "metadata": {},
   "outputs": [
    {
     "data": {
      "text/plain": [
       "limit_balance                 int64\n",
       "sex                           int64\n",
       "education_level               int64\n",
       "marital_status                int64\n",
       "age                           int64\n",
       "pay_0                         int64\n",
       "pay_2                         int64\n",
       "pay_3                         int64\n",
       "pay_4                         int64\n",
       "pay_5                         int64\n",
       "pay_6                         int64\n",
       "bill_amt_1                    int64\n",
       "bill_amt_2                    int64\n",
       "bill_amt_3                    int64\n",
       "bill_amt_4                    int64\n",
       "bill_amt_5                    int64\n",
       "bill_amt_6                    int64\n",
       "pay_amt_1                     int64\n",
       "pay_amt_2                     int64\n",
       "pay_amt_3                     int64\n",
       "pay_amt_4                     int64\n",
       "pay_amt_5                     int64\n",
       "pay_amt_6                     int64\n",
       "default_payment_next_month    int64\n",
       "dtype: object"
      ]
     },
     "execution_count": 25,
     "metadata": {},
     "output_type": "execute_result"
    }
   ],
   "source": [
    "# Identifying types of data for each column (which are our independent variables) in our dataframe.\n",
    "df.dtypes"
   ]
  },
  {
   "cell_type": "markdown",
   "metadata": {},
   "source": [
    "At a glance, we could determine that none of our independent variables (henceforth called \"Features\") are that of object / string type (meaning Non-Numbers). Therefore, we could define that they are all numerical in form and are discrete (int64 / integer types are most likely discrete numbers). To reinforce the idea that these numerical values are indeed discrete, we could take another look at the dataframe."
   ]
  },
  {
   "cell_type": "code",
   "execution_count": 26,
   "metadata": {},
   "outputs": [],
   "source": [
    "df_eda = df[['limit_balance', 'sex', 'education_level', 'marital_status', 'age', 'default_payment_next_month']]"
   ]
  },
  {
   "cell_type": "code",
   "execution_count": 27,
   "metadata": {},
   "outputs": [],
   "source": [
    "def pie_plot(df_eda, variable):\n",
    "    fig, ax = plt.subplots()\n",
    "    df_eda.groupby('default_payment_next_month')[variable].sum().plot(kind='pie', y='Class', autopct='%1.0f%%')\n",
    "    fig.patch.set_facecolor('xkcd:white')"
   ]
  },
  {
   "cell_type": "code",
   "execution_count": 28,
   "metadata": {},
   "outputs": [
    {
     "data": {
      "image/png": "[encoded data removed]",
      "text/plain": [
       "<Figure size 432x288 with 1 Axes>"
      ]
     },
     "metadata": {},
     "output_type": "display_data"
    },
    {
     "data": {
      "image/png": "[encoded data removed]",
      "text/plain": [
       "<Figure size 432x288 with 1 Axes>"
      ]
     },
     "metadata": {},
     "output_type": "display_data"
    },
    {
     "data": {
      "image/png": "[encoded data removed]",
      "text/plain": [
       "<Figure size 432x288 with 1 Axes>"
      ]
     },
     "metadata": {},
     "output_type": "display_data"
    },
    {
     "data": {
      "image/png": "[encoded data removed]",
      "text/plain": [
       "<Figure size 432x288 with 1 Axes>"
      ]
     },
     "metadata": {},
     "output_type": "display_data"
    },
    {
     "data": {
      "image/png": "[encoded data removed]",
      "text/plain": [
       "<Figure size 432x288 with 1 Axes>"
      ]
     },
     "metadata": {},
     "output_type": "display_data"
    },
    {
     "data": {
      "image/png": "[encoded data removed]",
      "text/plain": [
       "<Figure size 432x288 with 1 Axes>"
      ]
     },
     "metadata": {},
     "output_type": "display_data"
    }
   ],
   "source": [
    "for variable in df_eda.columns:\n",
    "    pie_plot(df_eda,variable)"
   ]
  },
  {
   "cell_type": "code",
   "execution_count": 29,
   "metadata": {},
   "outputs": [
    {
     "data": {
      "text/html": [
       "<div>\n",
       "<style scoped>\n",
       "    .dataframe tbody tr th:only-of-type {\n",
       "        vertical-align: middle;\n",
       "    }\n",
       "\n",
       "    .dataframe tbody tr th {\n",
       "        vertical-align: top;\n",
       "    }\n",
       "\n",
       "    .dataframe thead th {\n",
       "        text-align: right;\n",
       "    }\n",
       "</style>\n",
       "<table border=\"1\" class=\"dataframe\">\n",
       "  <thead>\n",
       "    <tr style=\"text-align: right;\">\n",
       "      <th></th>\n",
       "      <th>limit_balance</th>\n",
       "      <th>sex</th>\n",
       "      <th>education_level</th>\n",
       "      <th>marital_status</th>\n",
       "      <th>age</th>\n",
       "      <th>pay_0</th>\n",
       "      <th>pay_2</th>\n",
       "      <th>pay_3</th>\n",
       "      <th>pay_4</th>\n",
       "      <th>pay_5</th>\n",
       "      <th>...</th>\n",
       "      <th>bill_amt_4</th>\n",
       "      <th>bill_amt_5</th>\n",
       "      <th>bill_amt_6</th>\n",
       "      <th>pay_amt_1</th>\n",
       "      <th>pay_amt_2</th>\n",
       "      <th>pay_amt_3</th>\n",
       "      <th>pay_amt_4</th>\n",
       "      <th>pay_amt_5</th>\n",
       "      <th>pay_amt_6</th>\n",
       "      <th>default_payment_next_month</th>\n",
       "    </tr>\n",
       "  </thead>\n",
       "  <tbody>\n",
       "    <tr>\n",
       "      <th>0</th>\n",
       "      <td>50000</td>\n",
       "      <td>1</td>\n",
       "      <td>1</td>\n",
       "      <td>2</td>\n",
       "      <td>39</td>\n",
       "      <td>0</td>\n",
       "      <td>0</td>\n",
       "      <td>0</td>\n",
       "      <td>0</td>\n",
       "      <td>0</td>\n",
       "      <td>...</td>\n",
       "      <td>50803</td>\n",
       "      <td>30789</td>\n",
       "      <td>15874</td>\n",
       "      <td>1800</td>\n",
       "      <td>2000</td>\n",
       "      <td>3000</td>\n",
       "      <td>2000</td>\n",
       "      <td>2000</td>\n",
       "      <td>2000</td>\n",
       "      <td>0</td>\n",
       "    </tr>\n",
       "    <tr>\n",
       "      <th>1</th>\n",
       "      <td>110000</td>\n",
       "      <td>2</td>\n",
       "      <td>1</td>\n",
       "      <td>2</td>\n",
       "      <td>29</td>\n",
       "      <td>0</td>\n",
       "      <td>0</td>\n",
       "      <td>0</td>\n",
       "      <td>0</td>\n",
       "      <td>0</td>\n",
       "      <td>...</td>\n",
       "      <td>32489</td>\n",
       "      <td>26354</td>\n",
       "      <td>20221</td>\n",
       "      <td>2000</td>\n",
       "      <td>2010</td>\n",
       "      <td>3000</td>\n",
       "      <td>3000</td>\n",
       "      <td>3000</td>\n",
       "      <td>1000</td>\n",
       "      <td>0</td>\n",
       "    </tr>\n",
       "    <tr>\n",
       "      <th>2</th>\n",
       "      <td>270000</td>\n",
       "      <td>1</td>\n",
       "      <td>1</td>\n",
       "      <td>2</td>\n",
       "      <td>36</td>\n",
       "      <td>0</td>\n",
       "      <td>0</td>\n",
       "      <td>0</td>\n",
       "      <td>2</td>\n",
       "      <td>0</td>\n",
       "      <td>...</td>\n",
       "      <td>40335</td>\n",
       "      <td>37165</td>\n",
       "      <td>22156</td>\n",
       "      <td>10076</td>\n",
       "      <td>4018</td>\n",
       "      <td>14</td>\n",
       "      <td>2051</td>\n",
       "      <td>2000</td>\n",
       "      <td>0</td>\n",
       "      <td>0</td>\n",
       "    </tr>\n",
       "    <tr>\n",
       "      <th>3</th>\n",
       "      <td>130000</td>\n",
       "      <td>1</td>\n",
       "      <td>1</td>\n",
       "      <td>1</td>\n",
       "      <td>45</td>\n",
       "      <td>0</td>\n",
       "      <td>0</td>\n",
       "      <td>0</td>\n",
       "      <td>0</td>\n",
       "      <td>0</td>\n",
       "      <td>...</td>\n",
       "      <td>62377</td>\n",
       "      <td>63832</td>\n",
       "      <td>65099</td>\n",
       "      <td>2886</td>\n",
       "      <td>2908</td>\n",
       "      <td>2129</td>\n",
       "      <td>2354</td>\n",
       "      <td>2366</td>\n",
       "      <td>2291</td>\n",
       "      <td>0</td>\n",
       "    </tr>\n",
       "    <tr>\n",
       "      <th>4</th>\n",
       "      <td>50000</td>\n",
       "      <td>1</td>\n",
       "      <td>1</td>\n",
       "      <td>2</td>\n",
       "      <td>24</td>\n",
       "      <td>0</td>\n",
       "      <td>0</td>\n",
       "      <td>0</td>\n",
       "      <td>0</td>\n",
       "      <td>0</td>\n",
       "      <td>...</td>\n",
       "      <td>19837</td>\n",
       "      <td>19855</td>\n",
       "      <td>20151</td>\n",
       "      <td>1367</td>\n",
       "      <td>1606</td>\n",
       "      <td>692</td>\n",
       "      <td>709</td>\n",
       "      <td>721</td>\n",
       "      <td>692</td>\n",
       "      <td>0</td>\n",
       "    </tr>\n",
       "  </tbody>\n",
       "</table>\n",
       "<p>5 rows × 24 columns</p>\n",
       "</div>"
      ],
      "text/plain": [
       "   limit_balance  sex  education_level  marital_status  age  pay_0  pay_2  \\\n",
       "0          50000    1                1               2   39      0      0   \n",
       "1         110000    2                1               2   29      0      0   \n",
       "2         270000    1                1               2   36      0      0   \n",
       "3         130000    1                1               1   45      0      0   \n",
       "4          50000    1                1               2   24      0      0   \n",
       "\n",
       "   pay_3  pay_4  pay_5  ...  bill_amt_4  bill_amt_5  bill_amt_6  pay_amt_1  \\\n",
       "0      0      0      0  ...       50803       30789       15874       1800   \n",
       "1      0      0      0  ...       32489       26354       20221       2000   \n",
       "2      0      2      0  ...       40335       37165       22156      10076   \n",
       "3      0      0      0  ...       62377       63832       65099       2886   \n",
       "4      0      0      0  ...       19837       19855       20151       1367   \n",
       "\n",
       "   pay_amt_2  pay_amt_3  pay_amt_4  pay_amt_5  pay_amt_6  \\\n",
       "0       2000       3000       2000       2000       2000   \n",
       "1       2010       3000       3000       3000       1000   \n",
       "2       4018         14       2051       2000          0   \n",
       "3       2908       2129       2354       2366       2291   \n",
       "4       1606        692        709        721        692   \n",
       "\n",
       "   default_payment_next_month  \n",
       "0                           0  \n",
       "1                           0  \n",
       "2                           0  \n",
       "3                           0  \n",
       "4                           0  \n",
       "\n",
       "[5 rows x 24 columns]"
      ]
     },
     "execution_count": 29,
     "metadata": {},
     "output_type": "execute_result"
    }
   ],
   "source": [
    "# Displaying first five entries (for all columns) in dataframe.\n",
    "df.head()"
   ]
  },
  {
   "cell_type": "markdown",
   "metadata": {},
   "source": [
    "The inputs in our dataframe are indeed whole numbers. Even though here we are talking about monetary values, in which having decimal points is possible, the data keeper seem to be determined in rounding / making numbers whole. Hence, using a Classification model is possible."
   ]
  },
  {
   "cell_type": "code",
   "execution_count": 30,
   "metadata": {},
   "outputs": [
    {
     "data": {
      "text/plain": [
       "limit_balance                 0\n",
       "sex                           0\n",
       "education_level               0\n",
       "marital_status                0\n",
       "age                           0\n",
       "pay_0                         0\n",
       "pay_2                         0\n",
       "pay_3                         0\n",
       "pay_4                         0\n",
       "pay_5                         0\n",
       "pay_6                         0\n",
       "bill_amt_1                    0\n",
       "bill_amt_2                    0\n",
       "bill_amt_3                    0\n",
       "bill_amt_4                    0\n",
       "bill_amt_5                    0\n",
       "bill_amt_6                    0\n",
       "pay_amt_1                     0\n",
       "pay_amt_2                     0\n",
       "pay_amt_3                     0\n",
       "pay_amt_4                     0\n",
       "pay_amt_5                     0\n",
       "pay_amt_6                     0\n",
       "default_payment_next_month    0\n",
       "dtype: int64"
      ]
     },
     "execution_count": 30,
     "metadata": {},
     "output_type": "execute_result"
    }
   ],
   "source": [
    "# Using .isnull to find any NaN (Not a Number) / Nulls (Zeros) in our data.\n",
    "df.isnull().sum()"
   ]
  },
  {
   "cell_type": "markdown",
   "metadata": {},
   "source": [
    "NaN (Not a Number) / Null values are a nuisance when it comes to creating a Machine Learning model. They would need to be handled at the first oppurtunity for our model to be able to learn and predict using our dataframe. Using the syntax above, we could ascertain that there are no NaN / Null values in our data."
   ]
  },
  {
   "cell_type": "code",
   "execution_count": 31,
   "metadata": {},
   "outputs": [
    {
     "data": {
      "text/html": [
       "<div>\n",
       "<style scoped>\n",
       "    .dataframe tbody tr th:only-of-type {\n",
       "        vertical-align: middle;\n",
       "    }\n",
       "\n",
       "    .dataframe tbody tr th {\n",
       "        vertical-align: top;\n",
       "    }\n",
       "\n",
       "    .dataframe thead th {\n",
       "        text-align: right;\n",
       "    }\n",
       "</style>\n",
       "<table border=\"1\" class=\"dataframe\">\n",
       "  <thead>\n",
       "    <tr style=\"text-align: right;\">\n",
       "      <th></th>\n",
       "      <th>limit_balance</th>\n",
       "      <th>sex</th>\n",
       "      <th>education_level</th>\n",
       "      <th>marital_status</th>\n",
       "      <th>age</th>\n",
       "      <th>pay_0</th>\n",
       "      <th>pay_2</th>\n",
       "      <th>pay_3</th>\n",
       "      <th>pay_4</th>\n",
       "      <th>pay_5</th>\n",
       "      <th>...</th>\n",
       "      <th>bill_amt_4</th>\n",
       "      <th>bill_amt_5</th>\n",
       "      <th>bill_amt_6</th>\n",
       "      <th>pay_amt_1</th>\n",
       "      <th>pay_amt_2</th>\n",
       "      <th>pay_amt_3</th>\n",
       "      <th>pay_amt_4</th>\n",
       "      <th>pay_amt_5</th>\n",
       "      <th>pay_amt_6</th>\n",
       "      <th>default_payment_next_month</th>\n",
       "    </tr>\n",
       "  </thead>\n",
       "  <tbody>\n",
       "    <tr>\n",
       "      <th>count</th>\n",
       "      <td>2965.000000</td>\n",
       "      <td>2965.000000</td>\n",
       "      <td>2965.000000</td>\n",
       "      <td>2965.000000</td>\n",
       "      <td>2965.000000</td>\n",
       "      <td>2965.000000</td>\n",
       "      <td>2965.000000</td>\n",
       "      <td>2965.000000</td>\n",
       "      <td>2965.000000</td>\n",
       "      <td>2965.000000</td>\n",
       "      <td>...</td>\n",
       "      <td>2965.000000</td>\n",
       "      <td>2965.000000</td>\n",
       "      <td>2965.000000</td>\n",
       "      <td>2965.000000</td>\n",
       "      <td>2.965000e+03</td>\n",
       "      <td>2965.000000</td>\n",
       "      <td>2965.000000</td>\n",
       "      <td>2965.000000</td>\n",
       "      <td>2965.000000</td>\n",
       "      <td>2965.000000</td>\n",
       "    </tr>\n",
       "    <tr>\n",
       "      <th>mean</th>\n",
       "      <td>163369.308600</td>\n",
       "      <td>1.607757</td>\n",
       "      <td>1.849578</td>\n",
       "      <td>1.559865</td>\n",
       "      <td>35.193255</td>\n",
       "      <td>0.005059</td>\n",
       "      <td>-0.122428</td>\n",
       "      <td>-0.141653</td>\n",
       "      <td>-0.185160</td>\n",
       "      <td>-0.225295</td>\n",
       "      <td>...</td>\n",
       "      <td>44089.683305</td>\n",
       "      <td>40956.080607</td>\n",
       "      <td>39773.072513</td>\n",
       "      <td>6348.902867</td>\n",
       "      <td>6.272494e+03</td>\n",
       "      <td>5150.497133</td>\n",
       "      <td>4561.376054</td>\n",
       "      <td>4913.286678</td>\n",
       "      <td>5382.701518</td>\n",
       "      <td>0.214165</td>\n",
       "    </tr>\n",
       "    <tr>\n",
       "      <th>std</th>\n",
       "      <td>125030.415472</td>\n",
       "      <td>0.488333</td>\n",
       "      <td>0.778184</td>\n",
       "      <td>0.522317</td>\n",
       "      <td>9.109439</td>\n",
       "      <td>1.114395</td>\n",
       "      <td>1.180784</td>\n",
       "      <td>1.183630</td>\n",
       "      <td>1.178322</td>\n",
       "      <td>1.159003</td>\n",
       "      <td>...</td>\n",
       "      <td>61907.454056</td>\n",
       "      <td>58271.904751</td>\n",
       "      <td>57303.488981</td>\n",
       "      <td>20885.735336</td>\n",
       "      <td>2.887967e+04</td>\n",
       "      <td>14287.079982</td>\n",
       "      <td>13281.499599</td>\n",
       "      <td>16734.340778</td>\n",
       "      <td>17275.953029</td>\n",
       "      <td>0.410311</td>\n",
       "    </tr>\n",
       "    <tr>\n",
       "      <th>min</th>\n",
       "      <td>10000.000000</td>\n",
       "      <td>1.000000</td>\n",
       "      <td>0.000000</td>\n",
       "      <td>0.000000</td>\n",
       "      <td>21.000000</td>\n",
       "      <td>-2.000000</td>\n",
       "      <td>-2.000000</td>\n",
       "      <td>-2.000000</td>\n",
       "      <td>-2.000000</td>\n",
       "      <td>-2.000000</td>\n",
       "      <td>...</td>\n",
       "      <td>-46627.000000</td>\n",
       "      <td>-46627.000000</td>\n",
       "      <td>-73895.000000</td>\n",
       "      <td>0.000000</td>\n",
       "      <td>0.000000e+00</td>\n",
       "      <td>0.000000</td>\n",
       "      <td>0.000000</td>\n",
       "      <td>0.000000</td>\n",
       "      <td>0.000000</td>\n",
       "      <td>0.000000</td>\n",
       "    </tr>\n",
       "    <tr>\n",
       "      <th>25%</th>\n",
       "      <td>50000.000000</td>\n",
       "      <td>1.000000</td>\n",
       "      <td>1.000000</td>\n",
       "      <td>1.000000</td>\n",
       "      <td>28.000000</td>\n",
       "      <td>-1.000000</td>\n",
       "      <td>-1.000000</td>\n",
       "      <td>-1.000000</td>\n",
       "      <td>-1.000000</td>\n",
       "      <td>-1.000000</td>\n",
       "      <td>...</td>\n",
       "      <td>2582.000000</td>\n",
       "      <td>1958.000000</td>\n",
       "      <td>1430.000000</td>\n",
       "      <td>1013.000000</td>\n",
       "      <td>9.900000e+02</td>\n",
       "      <td>477.000000</td>\n",
       "      <td>313.000000</td>\n",
       "      <td>323.000000</td>\n",
       "      <td>173.000000</td>\n",
       "      <td>0.000000</td>\n",
       "    </tr>\n",
       "    <tr>\n",
       "      <th>50%</th>\n",
       "      <td>140000.000000</td>\n",
       "      <td>2.000000</td>\n",
       "      <td>2.000000</td>\n",
       "      <td>2.000000</td>\n",
       "      <td>34.000000</td>\n",
       "      <td>0.000000</td>\n",
       "      <td>0.000000</td>\n",
       "      <td>0.000000</td>\n",
       "      <td>0.000000</td>\n",
       "      <td>0.000000</td>\n",
       "      <td>...</td>\n",
       "      <td>19894.000000</td>\n",
       "      <td>18814.000000</td>\n",
       "      <td>18508.000000</td>\n",
       "      <td>2234.000000</td>\n",
       "      <td>2.175000e+03</td>\n",
       "      <td>1994.000000</td>\n",
       "      <td>1600.000000</td>\n",
       "      <td>1646.000000</td>\n",
       "      <td>1615.000000</td>\n",
       "      <td>0.000000</td>\n",
       "    </tr>\n",
       "    <tr>\n",
       "      <th>75%</th>\n",
       "      <td>230000.000000</td>\n",
       "      <td>2.000000</td>\n",
       "      <td>2.000000</td>\n",
       "      <td>2.000000</td>\n",
       "      <td>41.000000</td>\n",
       "      <td>0.000000</td>\n",
       "      <td>0.000000</td>\n",
       "      <td>0.000000</td>\n",
       "      <td>0.000000</td>\n",
       "      <td>0.000000</td>\n",
       "      <td>...</td>\n",
       "      <td>58622.000000</td>\n",
       "      <td>53373.000000</td>\n",
       "      <td>52287.000000</td>\n",
       "      <td>5087.000000</td>\n",
       "      <td>5.000000e+03</td>\n",
       "      <td>4500.000000</td>\n",
       "      <td>4000.000000</td>\n",
       "      <td>4021.000000</td>\n",
       "      <td>4081.000000</td>\n",
       "      <td>0.000000</td>\n",
       "    </tr>\n",
       "    <tr>\n",
       "      <th>max</th>\n",
       "      <td>800000.000000</td>\n",
       "      <td>2.000000</td>\n",
       "      <td>6.000000</td>\n",
       "      <td>3.000000</td>\n",
       "      <td>69.000000</td>\n",
       "      <td>8.000000</td>\n",
       "      <td>7.000000</td>\n",
       "      <td>7.000000</td>\n",
       "      <td>8.000000</td>\n",
       "      <td>7.000000</td>\n",
       "      <td>...</td>\n",
       "      <td>488808.000000</td>\n",
       "      <td>441981.000000</td>\n",
       "      <td>436172.000000</td>\n",
       "      <td>493358.000000</td>\n",
       "      <td>1.227082e+06</td>\n",
       "      <td>199209.000000</td>\n",
       "      <td>202076.000000</td>\n",
       "      <td>388071.000000</td>\n",
       "      <td>403500.000000</td>\n",
       "      <td>1.000000</td>\n",
       "    </tr>\n",
       "  </tbody>\n",
       "</table>\n",
       "<p>8 rows × 24 columns</p>\n",
       "</div>"
      ],
      "text/plain": [
       "       limit_balance          sex  education_level  marital_status  \\\n",
       "count    2965.000000  2965.000000      2965.000000     2965.000000   \n",
       "mean   163369.308600     1.607757         1.849578        1.559865   \n",
       "std    125030.415472     0.488333         0.778184        0.522317   \n",
       "min     10000.000000     1.000000         0.000000        0.000000   \n",
       "25%     50000.000000     1.000000         1.000000        1.000000   \n",
       "50%    140000.000000     2.000000         2.000000        2.000000   \n",
       "75%    230000.000000     2.000000         2.000000        2.000000   \n",
       "max    800000.000000     2.000000         6.000000        3.000000   \n",
       "\n",
       "               age        pay_0        pay_2        pay_3        pay_4  \\\n",
       "count  2965.000000  2965.000000  2965.000000  2965.000000  2965.000000   \n",
       "mean     35.193255     0.005059    -0.122428    -0.141653    -0.185160   \n",
       "std       9.109439     1.114395     1.180784     1.183630     1.178322   \n",
       "min      21.000000    -2.000000    -2.000000    -2.000000    -2.000000   \n",
       "25%      28.000000    -1.000000    -1.000000    -1.000000    -1.000000   \n",
       "50%      34.000000     0.000000     0.000000     0.000000     0.000000   \n",
       "75%      41.000000     0.000000     0.000000     0.000000     0.000000   \n",
       "max      69.000000     8.000000     7.000000     7.000000     8.000000   \n",
       "\n",
       "             pay_5  ...     bill_amt_4     bill_amt_5     bill_amt_6  \\\n",
       "count  2965.000000  ...    2965.000000    2965.000000    2965.000000   \n",
       "mean     -0.225295  ...   44089.683305   40956.080607   39773.072513   \n",
       "std       1.159003  ...   61907.454056   58271.904751   57303.488981   \n",
       "min      -2.000000  ...  -46627.000000  -46627.000000  -73895.000000   \n",
       "25%      -1.000000  ...    2582.000000    1958.000000    1430.000000   \n",
       "50%       0.000000  ...   19894.000000   18814.000000   18508.000000   \n",
       "75%       0.000000  ...   58622.000000   53373.000000   52287.000000   \n",
       "max       7.000000  ...  488808.000000  441981.000000  436172.000000   \n",
       "\n",
       "           pay_amt_1     pay_amt_2      pay_amt_3      pay_amt_4  \\\n",
       "count    2965.000000  2.965000e+03    2965.000000    2965.000000   \n",
       "mean     6348.902867  6.272494e+03    5150.497133    4561.376054   \n",
       "std     20885.735336  2.887967e+04   14287.079982   13281.499599   \n",
       "min         0.000000  0.000000e+00       0.000000       0.000000   \n",
       "25%      1013.000000  9.900000e+02     477.000000     313.000000   \n",
       "50%      2234.000000  2.175000e+03    1994.000000    1600.000000   \n",
       "75%      5087.000000  5.000000e+03    4500.000000    4000.000000   \n",
       "max    493358.000000  1.227082e+06  199209.000000  202076.000000   \n",
       "\n",
       "           pay_amt_5      pay_amt_6  default_payment_next_month  \n",
       "count    2965.000000    2965.000000                 2965.000000  \n",
       "mean     4913.286678    5382.701518                    0.214165  \n",
       "std     16734.340778   17275.953029                    0.410311  \n",
       "min         0.000000       0.000000                    0.000000  \n",
       "25%       323.000000     173.000000                    0.000000  \n",
       "50%      1646.000000    1615.000000                    0.000000  \n",
       "75%      4021.000000    4081.000000                    0.000000  \n",
       "max    388071.000000  403500.000000                    1.000000  \n",
       "\n",
       "[8 rows x 24 columns]"
      ]
     },
     "execution_count": 31,
     "metadata": {},
     "output_type": "execute_result"
    }
   ],
   "source": [
    "# .describe is used to find the central tendency of our data as well as the minimum and maximum.\n",
    "df.describe()"
   ]
  },
  {
   "cell_type": "markdown",
   "metadata": {},
   "source": [
    "For now, none of the features we have seem to be out of the ordinary. Hence, we can move to Data Preprocessing."
   ]
  },
  {
   "cell_type": "markdown",
   "metadata": {},
   "source": [
    "## V. Data Preprocessing"
   ]
  },
  {
   "cell_type": "markdown",
   "metadata": {},
   "source": [
    "Data preprocessing in Machine Learning refers to the technique of preparing (cleaning and organizing) the raw data to make it suitable for a building and training Machine Learning models (or into an understandable and readable format for our model).\n",
    "\n",
    "Reference: https://bit.ly/3RN8vNA"
   ]
  },
  {
   "cell_type": "markdown",
   "metadata": {},
   "source": [
    "### a. Feature Selection"
   ]
  },
  {
   "cell_type": "markdown",
   "metadata": {},
   "source": [
    "Logistic Regression and SVM Model Assumptions:\n",
    "\n",
    "1. The target variable is binary\n",
    "2. It assumes the entries to be independent of each other (no duplicates).\n",
    "3. There is a linear relationship between the independent variable (features) and dependent variable (target).\n",
    "4. It assumes that there is minimal or no multicollinearity among the independent variables (features).\n",
    "5. It usually requires a large sample size to predict properly.\n",
    "\n",
    "Decision Tree Model Assumptions:\n",
    "\n",
    "1. Initially, whole training data is considered as root.\n",
    "2. Records are distributed recursively on the basis of the attribute value.\n",
    "\n",
    "Random Forest Model Assumption:\n",
    "\n",
    "1. Assumption of no formal distributions. Being a non-parametric model, it can handle skewed and multi-modal data.\n",
    "\n",
    "K-Nearest Neighbors (KNN) Model Assumptions:\n",
    "\n",
    "1. The data is in feature space, which means data in feature space can be measured by distance metrics such as Manhattan, Euclidean, etc.\n",
    "2. Each of the training data points consists of a set of vectors and a class label associated with each vector.\n",
    "3. Desired to have ‘K’ as an odd number in case of 2 class classification.\n",
    "\n",
    "Naive Bayes Model Assumption:\n",
    "\n",
    "1. Conditional independence.\n",
    "\n",
    "Reference: https://bit.ly/3qNwe4y & https://bit.ly/3BuRhhg"
   ]
  },
  {
   "cell_type": "code",
   "execution_count": 32,
   "metadata": {},
   "outputs": [
    {
     "data": {
      "text/plain": [
       "array([0, 1], dtype=int64)"
      ]
     },
     "execution_count": 32,
     "metadata": {},
     "output_type": "execute_result"
    }
   ],
   "source": [
    "df['default_payment_next_month'].unique()"
   ]
  },
  {
   "cell_type": "markdown",
   "metadata": {},
   "source": [
    "Binary is defined as being related to only two things. In this case, our target variable is considered binary for it only has two states: that of being 0 and that of being 1."
   ]
  },
  {
   "cell_type": "code",
   "execution_count": 33,
   "metadata": {},
   "outputs": [
    {
     "data": {
      "text/plain": [
       "2245     True\n",
       "0       False\n",
       "1969    False\n",
       "1971    False\n",
       "1972    False\n",
       "        ...  \n",
       "990     False\n",
       "991     False\n",
       "992     False\n",
       "993     False\n",
       "2964    False\n",
       "Length: 2965, dtype: bool"
      ]
     },
     "execution_count": 33,
     "metadata": {},
     "output_type": "execute_result"
    }
   ],
   "source": [
    "# Checking for duplicates in data.\n",
    "df_dupl = df.duplicated()\n",
    "df_dupl.sort_values(ascending=False) # Sorting so that duplicated values will be on top."
   ]
  },
  {
   "cell_type": "markdown",
   "metadata": {},
   "source": [
    "We have one data entry that is a duplicate. However, it does not warrant any changes. Therefore, we will leave it be."
   ]
  },
  {
   "cell_type": "code",
   "execution_count": 34,
   "metadata": {},
   "outputs": [
    {
     "data": {
      "text/plain": [
       "Text(0.5, 1.0, 'Correlation Heatmap')"
      ]
     },
     "execution_count": 34,
     "metadata": {},
     "output_type": "execute_result"
    },
    {
     "data": {
      "image/png": "[encoded data removed]",
      "text/plain": [
       "<Figure size 360x720 with 2 Axes>"
      ]
     },
     "metadata": {
      "needs_background": "light"
     },
     "output_type": "display_data"
    }
   ],
   "source": [
    "# Check correlation of features to target.\n",
    "\n",
    "plt.figure(figsize=(5, 10)) # Configuring figure size in X and Y axis.\n",
    "heatmap = sns.heatmap(df.corr()[['default_payment_next_month']], vmin=-1, vmax=1, annot=True) # default_payment_next_month as target\n",
    "# (column in which features are being checked for correlation to). vmin and vmax set to default correlation coefficient values (-1 and 1).\n",
    "# This is the range in which our features will fall upon.\n",
    "\n",
    "heatmap.set_title('Correlation Heatmap', fontdict={'fontsize':12}, pad=12) # Setting figure title and fontsize."
   ]
  },
  {
   "cell_type": "markdown",
   "metadata": {},
   "source": [
    "The value of the correlation coefficient can take any values from -1 to 1.\n",
    "\n",
    "- If the value is 1, it is said to be a positive correlation between two variables. This means that when one variable increases, the other variable also increases.\n",
    "- If the value is -1, it is said to be a negative correlation between the two variables. This means that when one variable increases, the other variable decreases.\n",
    "- If the value is 0, there is no correlation between the two variables. This means that the variables changes in a random manner with respect to each other.\n",
    "\n",
    "Reference: https://bit.ly/3BVHG4u\n",
    "\n",
    "In short, we will consider retaining a feature if their correlation coefficient nears -1 or 1. In our case, pay_0 has the best correlation coefficient, which means that it has the most effect on our target (default_payment_next_month). However, we must also consider that pay_2 until pay_6 catches the eye as well as it bears a resemblance to pay_0 in terms of the correlation coefficient value (even though it is weaker than pay_0). Limit_balance may also be considered since its value is the closest to -1. Nevertheless, we will be looking at another visualization (in the form of a Phik Matrix) to make a more informed decision."
   ]
  },
  {
   "cell_type": "code",
   "execution_count": 35,
   "metadata": {},
   "outputs": [
    {
     "name": "stdout",
     "output_type": "stream",
     "text": [
      "interval columns not set, guessing: ['limit_balance', 'sex', 'education_level', 'marital_status', 'age', 'pay_0', 'pay_2', 'pay_3', 'pay_4', 'pay_5', 'pay_6', 'bill_amt_1', 'bill_amt_2', 'bill_amt_3', 'bill_amt_4', 'bill_amt_5', 'bill_amt_6', 'pay_amt_1', 'pay_amt_2', 'pay_amt_3', 'pay_amt_4', 'pay_amt_5', 'pay_amt_6', 'default_payment_next_month']\n"
     ]
    },
    {
     "data": {
      "text/plain": [
       "<AxesSubplot:>"
      ]
     },
     "execution_count": 35,
     "metadata": {},
     "output_type": "execute_result"
    },
    {
     "data": {
      "image/png": "[encoded data removed]",
      "text/plain": [
       "<Figure size 1440x1440 with 2 Axes>"
      ]
     },
     "metadata": {
      "needs_background": "light"
     },
     "output_type": "display_data"
    }
   ],
   "source": [
    "# Spawning of Phik Matrix.\n",
    "plt.figure(figsize=(20, 20)) # Figure size.\n",
    "sns.heatmap(df.phik_matrix(), vmin = 0, vmax = 1, annot = True) # In this case, our range for the correlation coefficient is 0 to 1."
   ]
  },
  {
   "cell_type": "markdown",
   "metadata": {},
   "source": [
    "Features such from limit balance until age speak for themselves in terms of description. However, others require elaboration: \n",
    "\n",
    "- Pay_0 until pay_6 discusses credit card repayment status per month. Pay_6 is for the month of April, and as we approach pay_0, we are reaching the current month (in this case pay_0 is September). As such:\n",
    "    - pay_6 = April\n",
    "    - pay_5 = May\n",
    "    - pay_4 = June\n",
    "    - pay_3 = July\n",
    "    - pay_2 = August\n",
    "    - pay_0 = September\n",
    "\n",
    "- Bill_amt_1 until bill_amt_6 discusses the monthly amount of bill statement for the credit card (in Dollars). Timeframe is the same as for repayment status:\n",
    "    - bill_amt_6 = April\n",
    "    - bill_amt_5 = May\n",
    "    - bill_amt_4 = June\n",
    "    - bill_amt_3 = July\n",
    "    - bill_amt_2 = August\n",
    "    - bill_amt_1 = September\n",
    "\n",
    "- Pay_amt_1 until pay_amt_6 discusses the monthly amount of previous payment for the credit card (in Dollars). Timeframe is the same:\n",
    "    - pay_amt_6 = April\n",
    "    - pay_amt_5 = May\n",
    "    - pay_amt_4 = June\n",
    "    - pay_amt_3 = July\n",
    "    - pay_amt_2 = August\n",
    "    - pay_amt_1 = September\n",
    "\n",
    "- Default_payment_next_month discusses whether a customer would be defaulting their credit card repayment for the next billing."
   ]
  },
  {
   "cell_type": "markdown",
   "metadata": {},
   "source": [
    "Phik Matrix interpretation:\n",
    "- Correlation coefficients between 0.9 and 1.0 = Very high correlation\n",
    "- Correlation coefficients between 0.7 and 0.9 = High correlation\n",
    "- Correlation coefficients between 0.5 and 0.7 = Moderate correlation\n",
    "- Correlation coefficients between 0.3 and 0.5 = Low correlation\n",
    "- Correlation coefficients below 0.3 = Weak to no correlation\n",
    "\n",
    "Reference: https://bit.ly/3f1UPQh\n",
    "\n",
    "In our case, we will have a threshold of 0.3 and consider retaining features that fall above this value. Considering that, we can conclude that pay_0 until pay_6 fall into this category. In addition, the correlation heatmap prior to the Phik Matrix also reinforces the idea that these features should be chosen for our model. Therefore, we will retain them."
   ]
  },
  {
   "cell_type": "code",
   "execution_count": 36,
   "metadata": {},
   "outputs": [],
   "source": [
    "# Selecting used features.\n",
    "df1 = df[['pay_0', 'pay_2', 'pay_3', 'pay_4', 'pay_5', 'pay_6', 'default_payment_next_month']]"
   ]
  },
  {
   "cell_type": "markdown",
   "metadata": {},
   "source": [
    "In truth, we may choose features purely based on logic and cognition. When we consider the dataframe we have, it would seem that all the features in it could be crucial in the training of our model. However, it is not recommended that we retain all of these features, as it may lead to longer training times and larger loads on our hardware / computer resource. As such, we can turn to heatmaps, matrices (such as those above), and other ways to select the most important and worthwhile features. One of these additional procedures will be applied next."
   ]
  },
  {
   "cell_type": "code",
   "execution_count": 37,
   "metadata": {},
   "outputs": [
    {
     "name": "stdout",
     "output_type": "stream",
     "text": [
      "  Feature       VIF\n",
      "0   pay_0  1.833943\n",
      "1   pay_2  3.114754\n",
      "2   pay_3  3.402296\n",
      "3   pay_4  4.084130\n",
      "4   pay_5  4.809770\n",
      "5   pay_6  3.179724\n"
     ]
    }
   ],
   "source": [
    "# Checking Variance Inflation Factor (VIF)\n",
    "vif_test = df1[['pay_0', 'pay_2', 'pay_3', 'pay_4', 'pay_5', 'pay_6']] # Defining vif_test.\n",
    "vif_data = pd.DataFrame()\n",
    "vif_data[\"Feature\"] = vif_test.columns # Creating column \"Feature\" in vif_data where it is equal to the entries in vif_test.\n",
    "\n",
    "# Creating column \"VIF\" in vif_data where it is equal to the VIF values of each columns in vif_test.\n",
    "vif_data[\"VIF\"] = [variance_inflation_factor(vif_test.values, i) \n",
    "                          for i in range(len(vif_test.columns))]\n",
    "  \n",
    "print(vif_data) # Printing of results."
   ]
  },
  {
   "cell_type": "markdown",
   "metadata": {},
   "source": [
    "The Variance Inflation Factor (VIF) is used to detect multicollinearity between variables. In this case, we are checking the multicollinearity between the features (correlation between our features) that we have retained. A rule of thumb for interpreting the VIF:\n",
    "\n",
    "- 1 = Not correlated\n",
    "- Between 1 and 5 = Moderately correlated\n",
    "- Greater than 5 = Highly correlated\n",
    "\n",
    "Reference: https://bit.ly/3f54fdK\n",
    "\n",
    "It is recommended, for Machine Learning models, that our features do not have correlation to each other. However, for the specific models we are using, a moderate correlation between features is still considered acceptable. Therefore, we shall proceed with all of them. In addition, we will not be checking the cardinality (count of distinct values) in our features since they are numerical."
   ]
  },
  {
   "cell_type": "markdown",
   "metadata": {},
   "source": [
    "### b. Dataframe Splitting"
   ]
  },
  {
   "cell_type": "code",
   "execution_count": 38,
   "metadata": {},
   "outputs": [
    {
     "name": "stdout",
     "output_type": "stream",
     "text": [
      "Train Size :  (2075, 7)\n",
      "Test Size  :  (890, 7)\n"
     ]
    }
   ],
   "source": [
    "# Defining X\n",
    "X = df1\n",
    "\n",
    "# Splitting dataframe between Train Set and Test Set\n",
    "df_train, df_test = train_test_split(X, test_size=0.3, random_state=20)\n",
    "\n",
    "# \"Test_size = 0.3\" means that we are splitting the dataframe by a ratio of 70 % (for train set) - 30 % (for test set). Random state (seed) defined as 20. \n",
    "\n",
    "print('Train Size : ', df_train.shape)\n",
    "print('Test Size  : ', df_test.shape)"
   ]
  },
  {
   "cell_type": "markdown",
   "metadata": {},
   "source": [
    "It is crucial to split the dataframe between a train and test set. The train set will be the basis of our model in which our model learns how to predict the desired outcome. The test set, as it name suggest, would be used to test how the model performs. It is important to do this splitting as early as possible to prevent data leakage. Data leakage is a situation whereas the model has managed to encounter the same problem in the test set as it is given the train set. Thefore, the output it provides, although accurate / correct, would not reflect the realistic performance of the model. This problem becomes more apparent when our model meets real-time / live data."
   ]
  },
  {
   "cell_type": "markdown",
   "metadata": {},
   "source": [
    "### c. Outlier Handling (Train Set Only)"
   ]
  },
  {
   "cell_type": "code",
   "execution_count": 39,
   "metadata": {},
   "outputs": [],
   "source": [
    "# Function to create histogram and boxplot.\n",
    "\n",
    "def diagnostic_plots(df_train, variable):\n",
    "    # Defining Figure Size\n",
    "    plt.figure(figsize=(16, 4))\n",
    "\n",
    "    # Histogram\n",
    "    plt.subplot(1, 2, 1)\n",
    "    sns.histplot(df_train[variable], bins=30) # This syntax takes the specific columns for a dataframe into the graph.\n",
    "    plt.title('Histogram')\n",
    "\n",
    "    # Boxplot\n",
    "    plt.subplot(1, 2, 2)\n",
    "    sns.boxplot(df_train[variable])\n",
    "    plt.title('Boxplot')\n",
    "\n",
    "    plt.show() # Displaying Plot"
   ]
  },
  {
   "cell_type": "code",
   "execution_count": 40,
   "metadata": {},
   "outputs": [
    {
     "data": {
      "image/png": "[encoded data removed]",
      "text/plain": [
       "<Figure size 1152x288 with 2 Axes>"
      ]
     },
     "metadata": {
      "needs_background": "light"
     },
     "output_type": "display_data"
    },
    {
     "name": "stdout",
     "output_type": "stream",
     "text": [
      "\n",
      "Skewness Value :  0.8743138192291632\n"
     ]
    }
   ],
   "source": [
    "# Displaying histogram, boxplot, and skewness for \"pay_0.\"\n",
    "\n",
    "diagnostic_plots(df_train, 'pay_0') # Using the definition above and inputting the dataframe name and variable (column name / feature).\n",
    "print('\\nSkewness Value : ', df_train['pay_0'].skew()) # Printing the skewness."
   ]
  },
  {
   "cell_type": "code",
   "execution_count": 41,
   "metadata": {},
   "outputs": [
    {
     "data": {
      "image/png": "[encoded data removed]",
      "text/plain": [
       "<Figure size 1152x288 with 2 Axes>"
      ]
     },
     "metadata": {
      "needs_background": "light"
     },
     "output_type": "display_data"
    },
    {
     "name": "stdout",
     "output_type": "stream",
     "text": [
      "\n",
      "Skewness Value :  0.8523811028285475\n"
     ]
    }
   ],
   "source": [
    "# Displaying histogram, boxplot, and skewness for \"pay_2.\"\n",
    "\n",
    "diagnostic_plots(df_train, 'pay_2')\n",
    "print('\\nSkewness Value : ', df_train['pay_2'].skew())"
   ]
  },
  {
   "cell_type": "code",
   "execution_count": 42,
   "metadata": {},
   "outputs": [
    {
     "data": {
      "image/png": "[encoded data removed]",
      "text/plain": [
       "<Figure size 1152x288 with 2 Axes>"
      ]
     },
     "metadata": {
      "needs_background": "light"
     },
     "output_type": "display_data"
    },
    {
     "name": "stdout",
     "output_type": "stream",
     "text": [
      "\n",
      "Skewness Value :  0.9507137763110725\n"
     ]
    }
   ],
   "source": [
    "# Displaying histogram, boxplot, and skewness for \"pay_3.\"\n",
    "\n",
    "diagnostic_plots(df_train, 'pay_3')\n",
    "print('\\nSkewness Value : ', df_train['pay_3'].skew())"
   ]
  },
  {
   "cell_type": "code",
   "execution_count": 43,
   "metadata": {},
   "outputs": [
    {
     "data": {
      "image/png": "[encoded data removed]",
      "text/plain": [
       "<Figure size 1152x288 with 2 Axes>"
      ]
     },
     "metadata": {
      "needs_background": "light"
     },
     "output_type": "display_data"
    },
    {
     "name": "stdout",
     "output_type": "stream",
     "text": [
      "\n",
      "Skewness Value :  1.226656284027715\n"
     ]
    }
   ],
   "source": [
    "# Displaying histogram, boxplot, and skewness for \"pay_4.\"\n",
    "\n",
    "diagnostic_plots(df_train, 'pay_4')\n",
    "print('\\nSkewness Value : ', df_train['pay_4'].skew())"
   ]
  },
  {
   "cell_type": "code",
   "execution_count": 44,
   "metadata": {},
   "outputs": [
    {
     "data": {
      "image/png": "[encoded data removed]",
      "text/plain": [
       "<Figure size 1152x288 with 2 Axes>"
      ]
     },
     "metadata": {
      "needs_background": "light"
     },
     "output_type": "display_data"
    },
    {
     "name": "stdout",
     "output_type": "stream",
     "text": [
      "\n",
      "Skewness Value :  1.1742713988518516\n"
     ]
    }
   ],
   "source": [
    "# Displaying histogram, boxplot, and skewness for \"pay_5.\"\n",
    "\n",
    "diagnostic_plots(df_train, 'pay_5')\n",
    "print('\\nSkewness Value : ', df_train['pay_5'].skew())"
   ]
  },
  {
   "cell_type": "code",
   "execution_count": 45,
   "metadata": {},
   "outputs": [
    {
     "data": {
      "image/png": "[encoded data removed]",
      "text/plain": [
       "<Figure size 1152x288 with 2 Axes>"
      ]
     },
     "metadata": {
      "needs_background": "light"
     },
     "output_type": "display_data"
    },
    {
     "name": "stdout",
     "output_type": "stream",
     "text": [
      "\n",
      "Skewness Value :  1.0697892957906205\n"
     ]
    }
   ],
   "source": [
    "# Displaying histogram, boxplot, and skewness for \"pay_6.\"\n",
    "\n",
    "diagnostic_plots(df_train, 'pay_6')\n",
    "print('\\nSkewness Value : ', df_train['pay_6'].skew())"
   ]
  },
  {
   "cell_type": "markdown",
   "metadata": {},
   "source": [
    "Note that a skewness value of 0 to 0.5 or 0 to -0.5 means that are our data is assumed to be normally distributed. A value of 0.5 to 1 or -0.5 to -1 means that our data is moderately skewed. A value beyond 1 or -1 means that our data is highly skewed.\n",
    "\n",
    "In our case, we could see that our data is either moderately skewed, or highly skewed (all in the positive direction / to the right). However, we are considering that values in features pay_0 until pay_6 are a result of categorical values being encoded into numerical values (with range of -2 to 8). Hence, we will not be removing or censoring any outliers. \n",
    "\n",
    "To elaborate, this is what pay_0 until pay_6 contains, and its meanings (according to Google Cloud BigQuery schematic for this dataframe):\n",
    "\n",
    "- -2 = Unknown\n",
    "- -1 = Pay duly\n",
    "- 0 = Unknown\n",
    "- 1 = Payment delay for one month\n",
    "- 2 = Payment delay for two months\n",
    "- 3 = Payment delay for three months\n",
    "- 4 = Payment delay for four months\n",
    "- 5 = Payment delay for five months\n",
    "- 6 = Payment delay for six months\n",
    "- 7 = Payment delay for seven months\n",
    "- 8 = Payment delay for eight months\n",
    "- 9 = Payment delay for nine months and above\n",
    "\n",
    "There are two unknown categories in this case. We will assume that -2 is considered pay duly as well, whilst 0 is pending payment."
   ]
  },
  {
   "cell_type": "markdown",
   "metadata": {},
   "source": [
    "Since the features we have contains values / entries that we consider are encoded categorical values, we will not be scaling them as well."
   ]
  },
  {
   "cell_type": "markdown",
   "metadata": {},
   "source": [
    "### d. Splitting Dataframe between Independent Variable \"X\" (Features) and Dependent Variable \"y\" (Target)"
   ]
  },
  {
   "cell_type": "code",
   "execution_count": 46,
   "metadata": {},
   "outputs": [],
   "source": [
    "X_train = df_train.drop('default_payment_next_month', axis=1) # For X, we are using \".drop\" and \"axis=1\" to drop all values within the \"default_payment_next_month\" column.\n",
    "X_test = df_test.drop('default_payment_next_month', axis=1)\n",
    "\n",
    "y_train = df_train[['default_payment_next_month']] # We are only retaining the \"default_payment_next_month\" column for y.\n",
    "y_test = df_test[['default_payment_next_month']]"
   ]
  },
  {
   "cell_type": "markdown",
   "metadata": {},
   "source": [
    "This is the final procedure in out data preprocessing step where we split the train and test sets between the features and target. This is required for our models to function."
   ]
  },
  {
   "cell_type": "markdown",
   "metadata": {},
   "source": [
    "## VI. Model Definition"
   ]
  },
  {
   "cell_type": "markdown",
   "metadata": {},
   "source": [
    "### a. Logistic Regression"
   ]
  },
  {
   "cell_type": "code",
   "execution_count": 47,
   "metadata": {},
   "outputs": [],
   "source": [
    "# Defining Logistic Regression Model with default attributes.\n",
    "log_model = LogisticRegression()"
   ]
  },
  {
   "cell_type": "code",
   "execution_count": 48,
   "metadata": {},
   "outputs": [],
   "source": [
    "# Defining X_train, X_test, y_train, and y_test for Logistic Regression model.\n",
    "X_train_log = X_train\n",
    "X_test_log = X_test\n",
    "y_train_log = y_train\n",
    "y_test_log = y_test"
   ]
  },
  {
   "cell_type": "markdown",
   "metadata": {},
   "source": [
    "### b. Support Vector Machines (SVM)"
   ]
  },
  {
   "cell_type": "code",
   "execution_count": 49,
   "metadata": {},
   "outputs": [],
   "source": [
    "# Defining SVM Classifier Model with default attributes.\n",
    "svm = SVC(probability=True)"
   ]
  },
  {
   "cell_type": "code",
   "execution_count": 50,
   "metadata": {},
   "outputs": [],
   "source": [
    "# Defining X_train, X_test, y_train, and y_test for Support Vector Machines (SVM) model.\n",
    "X_train_svm = X_train\n",
    "X_test_svm = X_test\n",
    "y_train_svm = y_train\n",
    "y_test_svm = y_test"
   ]
  },
  {
   "cell_type": "markdown",
   "metadata": {},
   "source": [
    "### c. Decision Tree"
   ]
  },
  {
   "cell_type": "code",
   "execution_count": 51,
   "metadata": {},
   "outputs": [],
   "source": [
    "# Defining Decision Tree model with default attributes. We are using random_state=20 here to prevent changes in output when the code is re-runned.\n",
    "tree_clf = DecisionTreeClassifier(random_state=20)"
   ]
  },
  {
   "cell_type": "code",
   "execution_count": 52,
   "metadata": {},
   "outputs": [],
   "source": [
    "# Defining X_train, X_test, y_train, and y_test for Decision Tree model.\n",
    "X_train_tree = X_train\n",
    "X_test_tree  = X_test\n",
    "y_train_tree  = y_train\n",
    "y_test_tree = y_test"
   ]
  },
  {
   "cell_type": "markdown",
   "metadata": {},
   "source": [
    "### d. Random Forest"
   ]
  },
  {
   "cell_type": "code",
   "execution_count": 53,
   "metadata": {},
   "outputs": [],
   "source": [
    "# Defining Random Tree model with default attributes. We are using random_state=20 here to prevent changes in output when the code is re-runned.\n",
    "rnd_clf = RandomForestClassifier(random_state=20)"
   ]
  },
  {
   "cell_type": "code",
   "execution_count": 54,
   "metadata": {},
   "outputs": [],
   "source": [
    "# Defining X_train, X_test, y_train, and y_test for Random Forest model.\n",
    "X_train_rnd = X_train\n",
    "X_test_rnd  = X_test\n",
    "y_train_rnd  = y_train\n",
    "y_test_rnd = y_test"
   ]
  },
  {
   "cell_type": "markdown",
   "metadata": {},
   "source": [
    "### e. K-Nearest Neighbors (KNN)"
   ]
  },
  {
   "cell_type": "code",
   "execution_count": 55,
   "metadata": {},
   "outputs": [],
   "source": [
    "# Defining KNN model with default attributes.\n",
    "neigh = KNeighborsClassifier()"
   ]
  },
  {
   "cell_type": "code",
   "execution_count": 56,
   "metadata": {},
   "outputs": [],
   "source": [
    "# Defining X_train, X_test, y_train, and y_test for KNN model.\n",
    "X_train_neigh = X_train\n",
    "X_test_neigh  = X_test\n",
    "y_train_neigh  = y_train\n",
    "y_test_neigh = y_test"
   ]
  },
  {
   "cell_type": "markdown",
   "metadata": {},
   "source": [
    "### f. Naive Bayes"
   ]
  },
  {
   "cell_type": "code",
   "execution_count": 57,
   "metadata": {},
   "outputs": [],
   "source": [
    "# Defining Naive Bayes (Gaussian) model with default attributes.\n",
    "gnb = GaussianNB()"
   ]
  },
  {
   "cell_type": "code",
   "execution_count": 58,
   "metadata": {},
   "outputs": [],
   "source": [
    "# Defining X_train, X_test, y_train, and y_test for Naive Bayes model.\n",
    "X_train_gnb = X_train\n",
    "X_test_gnb  = X_test\n",
    "y_train_gnb  = y_train\n",
    "y_test_gnb = y_test"
   ]
  },
  {
   "cell_type": "markdown",
   "metadata": {},
   "source": [
    "### g. AdaBoost"
   ]
  },
  {
   "cell_type": "code",
   "execution_count": 59,
   "metadata": {},
   "outputs": [],
   "source": [
    "# Defining AdaBoost model with default attributes. We are using random_state=20 here to prevent changes in output when the code is re-runned.\n",
    "ada_clf = AdaBoostClassifier(random_state=20)"
   ]
  },
  {
   "cell_type": "code",
   "execution_count": 60,
   "metadata": {},
   "outputs": [],
   "source": [
    "# Defining X_train, X_test, y_train, and y_test for Naive Bayes model.\n",
    "X_train_ada = X_train\n",
    "X_test_ada  = X_test\n",
    "y_train_ada  = y_train\n",
    "y_test_ada = y_test"
   ]
  },
  {
   "cell_type": "markdown",
   "metadata": {},
   "source": [
    "## VII. Model Training"
   ]
  },
  {
   "cell_type": "markdown",
   "metadata": {},
   "source": [
    "### a. Logistic Regression"
   ]
  },
  {
   "cell_type": "code",
   "execution_count": 61,
   "metadata": {},
   "outputs": [
    {
     "data": {
      "text/html": [
       "<style>#sk-container-id-1 {color: black;background-color: white;}#sk-container-id-1 pre{padding: 0;}#sk-container-id-1 div.sk-toggleable {background-color: white;}#sk-container-id-1 label.sk-toggleable__label {cursor: pointer;display: block;width: 100%;margin-bottom: 0;padding: 0.3em;box-sizing: border-box;text-align: center;}#sk-container-id-1 label.sk-toggleable__label-arrow:before {content: \"▸\";float: left;margin-right: 0.25em;color: #696969;}#sk-container-id-1 label.sk-toggleable__label-arrow:hover:before {color: black;}#sk-container-id-1 div.sk-estimator:hover label.sk-toggleable__label-arrow:before {color: black;}#sk-container-id-1 div.sk-toggleable__content {max-height: 0;max-width: 0;overflow: hidden;text-align: left;background-color: #f0f8ff;}#sk-container-id-1 div.sk-toggleable__content pre {margin: 0.2em;color: black;border-radius: 0.25em;background-color: #f0f8ff;}#sk-container-id-1 input.sk-toggleable__control:checked~div.sk-toggleable__content {max-height: 200px;max-width: 100%;overflow: auto;}#sk-container-id-1 input.sk-toggleable__control:checked~label.sk-toggleable__label-arrow:before {content: \"▾\";}#sk-container-id-1 div.sk-estimator input.sk-toggleable__control:checked~label.sk-toggleable__label {background-color: #d4ebff;}#sk-container-id-1 div.sk-label input.sk-toggleable__control:checked~label.sk-toggleable__label {background-color: #d4ebff;}#sk-container-id-1 input.sk-hidden--visually {border: 0;clip: rect(1px 1px 1px 1px);clip: rect(1px, 1px, 1px, 1px);height: 1px;margin: -1px;overflow: hidden;padding: 0;position: absolute;width: 1px;}#sk-container-id-1 div.sk-estimator {font-family: monospace;background-color: #f0f8ff;border: 1px dotted black;border-radius: 0.25em;box-sizing: border-box;margin-bottom: 0.5em;}#sk-container-id-1 div.sk-estimator:hover {background-color: #d4ebff;}#sk-container-id-1 div.sk-parallel-item::after {content: \"\";width: 100%;border-bottom: 1px solid gray;flex-grow: 1;}#sk-container-id-1 div.sk-label:hover label.sk-toggleable__label {background-color: #d4ebff;}#sk-container-id-1 div.sk-serial::before {content: \"\";position: absolute;border-left: 1px solid gray;box-sizing: border-box;top: 0;bottom: 0;left: 50%;z-index: 0;}#sk-container-id-1 div.sk-serial {display: flex;flex-direction: column;align-items: center;background-color: white;padding-right: 0.2em;padding-left: 0.2em;position: relative;}#sk-container-id-1 div.sk-item {position: relative;z-index: 1;}#sk-container-id-1 div.sk-parallel {display: flex;align-items: stretch;justify-content: center;background-color: white;position: relative;}#sk-container-id-1 div.sk-item::before, #sk-container-id-1 div.sk-parallel-item::before {content: \"\";position: absolute;border-left: 1px solid gray;box-sizing: border-box;top: 0;bottom: 0;left: 50%;z-index: -1;}#sk-container-id-1 div.sk-parallel-item {display: flex;flex-direction: column;z-index: 1;position: relative;background-color: white;}#sk-container-id-1 div.sk-parallel-item:first-child::after {align-self: flex-end;width: 50%;}#sk-container-id-1 div.sk-parallel-item:last-child::after {align-self: flex-start;width: 50%;}#sk-container-id-1 div.sk-parallel-item:only-child::after {width: 0;}#sk-container-id-1 div.sk-dashed-wrapped {border: 1px dashed gray;margin: 0 0.4em 0.5em 0.4em;box-sizing: border-box;padding-bottom: 0.4em;background-color: white;}#sk-container-id-1 div.sk-label label {font-family: monospace;font-weight: bold;display: inline-block;line-height: 1.2em;}#sk-container-id-1 div.sk-label-container {text-align: center;}#sk-container-id-1 div.sk-container {/* jupyter's `normalize.less` sets `[hidden] { display: none; }` but bootstrap.min.css set `[hidden] { display: none !important; }` so we also need the `!important` here to be able to override the default hidden behavior on the sphinx rendered scikit-learn.org. See: https://github.com/scikit-learn/scikit-learn/issues/21755 */display: inline-block !important;position: relative;}#sk-container-id-1 div.sk-text-repr-fallback {display: none;}</style><div id=\"sk-container-id-1\" class=\"sk-top-container\"><div class=\"sk-text-repr-fallback\"><pre>LogisticRegression()</pre><b>In a Jupyter environment, please rerun this cell to show the HTML representation or trust the notebook. <br />On GitHub, the HTML representation is unable to render, please try loading this page with nbviewer.org.</b></div><div class=\"sk-container\" hidden><div class=\"sk-item\"><div class=\"sk-estimator sk-toggleable\"><input class=\"sk-toggleable__control sk-hidden--visually\" id=\"sk-estimator-id-1\" type=\"checkbox\" checked><label for=\"sk-estimator-id-1\" class=\"sk-toggleable__label sk-toggleable__label-arrow\">LogisticRegression</label><div class=\"sk-toggleable__content\"><pre>LogisticRegression()</pre></div></div></div></div></div>"
      ],
      "text/plain": [
       "LogisticRegression()"
      ]
     },
     "execution_count": 61,
     "metadata": {},
     "output_type": "execute_result"
    }
   ],
   "source": [
    "# Training Logistic Regression model.\n",
    "log_model.fit(X_train_log,y_train_log)"
   ]
  },
  {
   "cell_type": "markdown",
   "metadata": {},
   "source": [
    "### b. Support Vector Machines (SVM)"
   ]
  },
  {
   "cell_type": "code",
   "execution_count": 62,
   "metadata": {},
   "outputs": [
    {
     "data": {
      "text/html": [
       "<style>#sk-container-id-2 {color: black;background-color: white;}#sk-container-id-2 pre{padding: 0;}#sk-container-id-2 div.sk-toggleable {background-color: white;}#sk-container-id-2 label.sk-toggleable__label {cursor: pointer;display: block;width: 100%;margin-bottom: 0;padding: 0.3em;box-sizing: border-box;text-align: center;}#sk-container-id-2 label.sk-toggleable__label-arrow:before {content: \"▸\";float: left;margin-right: 0.25em;color: #696969;}#sk-container-id-2 label.sk-toggleable__label-arrow:hover:before {color: black;}#sk-container-id-2 div.sk-estimator:hover label.sk-toggleable__label-arrow:before {color: black;}#sk-container-id-2 div.sk-toggleable__content {max-height: 0;max-width: 0;overflow: hidden;text-align: left;background-color: #f0f8ff;}#sk-container-id-2 div.sk-toggleable__content pre {margin: 0.2em;color: black;border-radius: 0.25em;background-color: #f0f8ff;}#sk-container-id-2 input.sk-toggleable__control:checked~div.sk-toggleable__content {max-height: 200px;max-width: 100%;overflow: auto;}#sk-container-id-2 input.sk-toggleable__control:checked~label.sk-toggleable__label-arrow:before {content: \"▾\";}#sk-container-id-2 div.sk-estimator input.sk-toggleable__control:checked~label.sk-toggleable__label {background-color: #d4ebff;}#sk-container-id-2 div.sk-label input.sk-toggleable__control:checked~label.sk-toggleable__label {background-color: #d4ebff;}#sk-container-id-2 input.sk-hidden--visually {border: 0;clip: rect(1px 1px 1px 1px);clip: rect(1px, 1px, 1px, 1px);height: 1px;margin: -1px;overflow: hidden;padding: 0;position: absolute;width: 1px;}#sk-container-id-2 div.sk-estimator {font-family: monospace;background-color: #f0f8ff;border: 1px dotted black;border-radius: 0.25em;box-sizing: border-box;margin-bottom: 0.5em;}#sk-container-id-2 div.sk-estimator:hover {background-color: #d4ebff;}#sk-container-id-2 div.sk-parallel-item::after {content: \"\";width: 100%;border-bottom: 1px solid gray;flex-grow: 1;}#sk-container-id-2 div.sk-label:hover label.sk-toggleable__label {background-color: #d4ebff;}#sk-container-id-2 div.sk-serial::before {content: \"\";position: absolute;border-left: 1px solid gray;box-sizing: border-box;top: 0;bottom: 0;left: 50%;z-index: 0;}#sk-container-id-2 div.sk-serial {display: flex;flex-direction: column;align-items: center;background-color: white;padding-right: 0.2em;padding-left: 0.2em;position: relative;}#sk-container-id-2 div.sk-item {position: relative;z-index: 1;}#sk-container-id-2 div.sk-parallel {display: flex;align-items: stretch;justify-content: center;background-color: white;position: relative;}#sk-container-id-2 div.sk-item::before, #sk-container-id-2 div.sk-parallel-item::before {content: \"\";position: absolute;border-left: 1px solid gray;box-sizing: border-box;top: 0;bottom: 0;left: 50%;z-index: -1;}#sk-container-id-2 div.sk-parallel-item {display: flex;flex-direction: column;z-index: 1;position: relative;background-color: white;}#sk-container-id-2 div.sk-parallel-item:first-child::after {align-self: flex-end;width: 50%;}#sk-container-id-2 div.sk-parallel-item:last-child::after {align-self: flex-start;width: 50%;}#sk-container-id-2 div.sk-parallel-item:only-child::after {width: 0;}#sk-container-id-2 div.sk-dashed-wrapped {border: 1px dashed gray;margin: 0 0.4em 0.5em 0.4em;box-sizing: border-box;padding-bottom: 0.4em;background-color: white;}#sk-container-id-2 div.sk-label label {font-family: monospace;font-weight: bold;display: inline-block;line-height: 1.2em;}#sk-container-id-2 div.sk-label-container {text-align: center;}#sk-container-id-2 div.sk-container {/* jupyter's `normalize.less` sets `[hidden] { display: none; }` but bootstrap.min.css set `[hidden] { display: none !important; }` so we also need the `!important` here to be able to override the default hidden behavior on the sphinx rendered scikit-learn.org. See: https://github.com/scikit-learn/scikit-learn/issues/21755 */display: inline-block !important;position: relative;}#sk-container-id-2 div.sk-text-repr-fallback {display: none;}</style><div id=\"sk-container-id-2\" class=\"sk-top-container\"><div class=\"sk-text-repr-fallback\"><pre>SVC(probability=True)</pre><b>In a Jupyter environment, please rerun this cell to show the HTML representation or trust the notebook. <br />On GitHub, the HTML representation is unable to render, please try loading this page with nbviewer.org.</b></div><div class=\"sk-container\" hidden><div class=\"sk-item\"><div class=\"sk-estimator sk-toggleable\"><input class=\"sk-toggleable__control sk-hidden--visually\" id=\"sk-estimator-id-2\" type=\"checkbox\" checked><label for=\"sk-estimator-id-2\" class=\"sk-toggleable__label sk-toggleable__label-arrow\">SVC</label><div class=\"sk-toggleable__content\"><pre>SVC(probability=True)</pre></div></div></div></div></div>"
      ],
      "text/plain": [
       "SVC(probability=True)"
      ]
     },
     "execution_count": 62,
     "metadata": {},
     "output_type": "execute_result"
    }
   ],
   "source": [
    "# Training SVM model.\n",
    "svm.fit(X_train_svm, y_train_svm)"
   ]
  },
  {
   "cell_type": "markdown",
   "metadata": {},
   "source": [
    "### c. Decision Tree"
   ]
  },
  {
   "cell_type": "code",
   "execution_count": 63,
   "metadata": {},
   "outputs": [
    {
     "data": {
      "text/html": [
       "<style>#sk-container-id-3 {color: black;background-color: white;}#sk-container-id-3 pre{padding: 0;}#sk-container-id-3 div.sk-toggleable {background-color: white;}#sk-container-id-3 label.sk-toggleable__label {cursor: pointer;display: block;width: 100%;margin-bottom: 0;padding: 0.3em;box-sizing: border-box;text-align: center;}#sk-container-id-3 label.sk-toggleable__label-arrow:before {content: \"▸\";float: left;margin-right: 0.25em;color: #696969;}#sk-container-id-3 label.sk-toggleable__label-arrow:hover:before {color: black;}#sk-container-id-3 div.sk-estimator:hover label.sk-toggleable__label-arrow:before {color: black;}#sk-container-id-3 div.sk-toggleable__content {max-height: 0;max-width: 0;overflow: hidden;text-align: left;background-color: #f0f8ff;}#sk-container-id-3 div.sk-toggleable__content pre {margin: 0.2em;color: black;border-radius: 0.25em;background-color: #f0f8ff;}#sk-container-id-3 input.sk-toggleable__control:checked~div.sk-toggleable__content {max-height: 200px;max-width: 100%;overflow: auto;}#sk-container-id-3 input.sk-toggleable__control:checked~label.sk-toggleable__label-arrow:before {content: \"▾\";}#sk-container-id-3 div.sk-estimator input.sk-toggleable__control:checked~label.sk-toggleable__label {background-color: #d4ebff;}#sk-container-id-3 div.sk-label input.sk-toggleable__control:checked~label.sk-toggleable__label {background-color: #d4ebff;}#sk-container-id-3 input.sk-hidden--visually {border: 0;clip: rect(1px 1px 1px 1px);clip: rect(1px, 1px, 1px, 1px);height: 1px;margin: -1px;overflow: hidden;padding: 0;position: absolute;width: 1px;}#sk-container-id-3 div.sk-estimator {font-family: monospace;background-color: #f0f8ff;border: 1px dotted black;border-radius: 0.25em;box-sizing: border-box;margin-bottom: 0.5em;}#sk-container-id-3 div.sk-estimator:hover {background-color: #d4ebff;}#sk-container-id-3 div.sk-parallel-item::after {content: \"\";width: 100%;border-bottom: 1px solid gray;flex-grow: 1;}#sk-container-id-3 div.sk-label:hover label.sk-toggleable__label {background-color: #d4ebff;}#sk-container-id-3 div.sk-serial::before {content: \"\";position: absolute;border-left: 1px solid gray;box-sizing: border-box;top: 0;bottom: 0;left: 50%;z-index: 0;}#sk-container-id-3 div.sk-serial {display: flex;flex-direction: column;align-items: center;background-color: white;padding-right: 0.2em;padding-left: 0.2em;position: relative;}#sk-container-id-3 div.sk-item {position: relative;z-index: 1;}#sk-container-id-3 div.sk-parallel {display: flex;align-items: stretch;justify-content: center;background-color: white;position: relative;}#sk-container-id-3 div.sk-item::before, #sk-container-id-3 div.sk-parallel-item::before {content: \"\";position: absolute;border-left: 1px solid gray;box-sizing: border-box;top: 0;bottom: 0;left: 50%;z-index: -1;}#sk-container-id-3 div.sk-parallel-item {display: flex;flex-direction: column;z-index: 1;position: relative;background-color: white;}#sk-container-id-3 div.sk-parallel-item:first-child::after {align-self: flex-end;width: 50%;}#sk-container-id-3 div.sk-parallel-item:last-child::after {align-self: flex-start;width: 50%;}#sk-container-id-3 div.sk-parallel-item:only-child::after {width: 0;}#sk-container-id-3 div.sk-dashed-wrapped {border: 1px dashed gray;margin: 0 0.4em 0.5em 0.4em;box-sizing: border-box;padding-bottom: 0.4em;background-color: white;}#sk-container-id-3 div.sk-label label {font-family: monospace;font-weight: bold;display: inline-block;line-height: 1.2em;}#sk-container-id-3 div.sk-label-container {text-align: center;}#sk-container-id-3 div.sk-container {/* jupyter's `normalize.less` sets `[hidden] { display: none; }` but bootstrap.min.css set `[hidden] { display: none !important; }` so we also need the `!important` here to be able to override the default hidden behavior on the sphinx rendered scikit-learn.org. See: https://github.com/scikit-learn/scikit-learn/issues/21755 */display: inline-block !important;position: relative;}#sk-container-id-3 div.sk-text-repr-fallback {display: none;}</style><div id=\"sk-container-id-3\" class=\"sk-top-container\"><div class=\"sk-text-repr-fallback\"><pre>DecisionTreeClassifier(random_state=20)</pre><b>In a Jupyter environment, please rerun this cell to show the HTML representation or trust the notebook. <br />On GitHub, the HTML representation is unable to render, please try loading this page with nbviewer.org.</b></div><div class=\"sk-container\" hidden><div class=\"sk-item\"><div class=\"sk-estimator sk-toggleable\"><input class=\"sk-toggleable__control sk-hidden--visually\" id=\"sk-estimator-id-3\" type=\"checkbox\" checked><label for=\"sk-estimator-id-3\" class=\"sk-toggleable__label sk-toggleable__label-arrow\">DecisionTreeClassifier</label><div class=\"sk-toggleable__content\"><pre>DecisionTreeClassifier(random_state=20)</pre></div></div></div></div></div>"
      ],
      "text/plain": [
       "DecisionTreeClassifier(random_state=20)"
      ]
     },
     "execution_count": 63,
     "metadata": {},
     "output_type": "execute_result"
    }
   ],
   "source": [
    "tree_clf.fit(X_train_tree, y_train_tree)"
   ]
  },
  {
   "cell_type": "markdown",
   "metadata": {},
   "source": [
    "### d. Random Forest"
   ]
  },
  {
   "cell_type": "code",
   "execution_count": 64,
   "metadata": {},
   "outputs": [
    {
     "data": {
      "text/html": [
       "<style>#sk-container-id-4 {color: black;background-color: white;}#sk-container-id-4 pre{padding: 0;}#sk-container-id-4 div.sk-toggleable {background-color: white;}#sk-container-id-4 label.sk-toggleable__label {cursor: pointer;display: block;width: 100%;margin-bottom: 0;padding: 0.3em;box-sizing: border-box;text-align: center;}#sk-container-id-4 label.sk-toggleable__label-arrow:before {content: \"▸\";float: left;margin-right: 0.25em;color: #696969;}#sk-container-id-4 label.sk-toggleable__label-arrow:hover:before {color: black;}#sk-container-id-4 div.sk-estimator:hover label.sk-toggleable__label-arrow:before {color: black;}#sk-container-id-4 div.sk-toggleable__content {max-height: 0;max-width: 0;overflow: hidden;text-align: left;background-color: #f0f8ff;}#sk-container-id-4 div.sk-toggleable__content pre {margin: 0.2em;color: black;border-radius: 0.25em;background-color: #f0f8ff;}#sk-container-id-4 input.sk-toggleable__control:checked~div.sk-toggleable__content {max-height: 200px;max-width: 100%;overflow: auto;}#sk-container-id-4 input.sk-toggleable__control:checked~label.sk-toggleable__label-arrow:before {content: \"▾\";}#sk-container-id-4 div.sk-estimator input.sk-toggleable__control:checked~label.sk-toggleable__label {background-color: #d4ebff;}#sk-container-id-4 div.sk-label input.sk-toggleable__control:checked~label.sk-toggleable__label {background-color: #d4ebff;}#sk-container-id-4 input.sk-hidden--visually {border: 0;clip: rect(1px 1px 1px 1px);clip: rect(1px, 1px, 1px, 1px);height: 1px;margin: -1px;overflow: hidden;padding: 0;position: absolute;width: 1px;}#sk-container-id-4 div.sk-estimator {font-family: monospace;background-color: #f0f8ff;border: 1px dotted black;border-radius: 0.25em;box-sizing: border-box;margin-bottom: 0.5em;}#sk-container-id-4 div.sk-estimator:hover {background-color: #d4ebff;}#sk-container-id-4 div.sk-parallel-item::after {content: \"\";width: 100%;border-bottom: 1px solid gray;flex-grow: 1;}#sk-container-id-4 div.sk-label:hover label.sk-toggleable__label {background-color: #d4ebff;}#sk-container-id-4 div.sk-serial::before {content: \"\";position: absolute;border-left: 1px solid gray;box-sizing: border-box;top: 0;bottom: 0;left: 50%;z-index: 0;}#sk-container-id-4 div.sk-serial {display: flex;flex-direction: column;align-items: center;background-color: white;padding-right: 0.2em;padding-left: 0.2em;position: relative;}#sk-container-id-4 div.sk-item {position: relative;z-index: 1;}#sk-container-id-4 div.sk-parallel {display: flex;align-items: stretch;justify-content: center;background-color: white;position: relative;}#sk-container-id-4 div.sk-item::before, #sk-container-id-4 div.sk-parallel-item::before {content: \"\";position: absolute;border-left: 1px solid gray;box-sizing: border-box;top: 0;bottom: 0;left: 50%;z-index: -1;}#sk-container-id-4 div.sk-parallel-item {display: flex;flex-direction: column;z-index: 1;position: relative;background-color: white;}#sk-container-id-4 div.sk-parallel-item:first-child::after {align-self: flex-end;width: 50%;}#sk-container-id-4 div.sk-parallel-item:last-child::after {align-self: flex-start;width: 50%;}#sk-container-id-4 div.sk-parallel-item:only-child::after {width: 0;}#sk-container-id-4 div.sk-dashed-wrapped {border: 1px dashed gray;margin: 0 0.4em 0.5em 0.4em;box-sizing: border-box;padding-bottom: 0.4em;background-color: white;}#sk-container-id-4 div.sk-label label {font-family: monospace;font-weight: bold;display: inline-block;line-height: 1.2em;}#sk-container-id-4 div.sk-label-container {text-align: center;}#sk-container-id-4 div.sk-container {/* jupyter's `normalize.less` sets `[hidden] { display: none; }` but bootstrap.min.css set `[hidden] { display: none !important; }` so we also need the `!important` here to be able to override the default hidden behavior on the sphinx rendered scikit-learn.org. See: https://github.com/scikit-learn/scikit-learn/issues/21755 */display: inline-block !important;position: relative;}#sk-container-id-4 div.sk-text-repr-fallback {display: none;}</style><div id=\"sk-container-id-4\" class=\"sk-top-container\"><div class=\"sk-text-repr-fallback\"><pre>RandomForestClassifier(random_state=20)</pre><b>In a Jupyter environment, please rerun this cell to show the HTML representation or trust the notebook. <br />On GitHub, the HTML representation is unable to render, please try loading this page with nbviewer.org.</b></div><div class=\"sk-container\" hidden><div class=\"sk-item\"><div class=\"sk-estimator sk-toggleable\"><input class=\"sk-toggleable__control sk-hidden--visually\" id=\"sk-estimator-id-4\" type=\"checkbox\" checked><label for=\"sk-estimator-id-4\" class=\"sk-toggleable__label sk-toggleable__label-arrow\">RandomForestClassifier</label><div class=\"sk-toggleable__content\"><pre>RandomForestClassifier(random_state=20)</pre></div></div></div></div></div>"
      ],
      "text/plain": [
       "RandomForestClassifier(random_state=20)"
      ]
     },
     "execution_count": 64,
     "metadata": {},
     "output_type": "execute_result"
    }
   ],
   "source": [
    "rnd_clf.fit(X_train_rnd, y_train_rnd)"
   ]
  },
  {
   "cell_type": "markdown",
   "metadata": {},
   "source": [
    "### e. K-Nearest Neighbors (KNN)"
   ]
  },
  {
   "cell_type": "code",
   "execution_count": 65,
   "metadata": {},
   "outputs": [
    {
     "data": {
      "text/html": [
       "<style>#sk-container-id-5 {color: black;background-color: white;}#sk-container-id-5 pre{padding: 0;}#sk-container-id-5 div.sk-toggleable {background-color: white;}#sk-container-id-5 label.sk-toggleable__label {cursor: pointer;display: block;width: 100%;margin-bottom: 0;padding: 0.3em;box-sizing: border-box;text-align: center;}#sk-container-id-5 label.sk-toggleable__label-arrow:before {content: \"▸\";float: left;margin-right: 0.25em;color: #696969;}#sk-container-id-5 label.sk-toggleable__label-arrow:hover:before {color: black;}#sk-container-id-5 div.sk-estimator:hover label.sk-toggleable__label-arrow:before {color: black;}#sk-container-id-5 div.sk-toggleable__content {max-height: 0;max-width: 0;overflow: hidden;text-align: left;background-color: #f0f8ff;}#sk-container-id-5 div.sk-toggleable__content pre {margin: 0.2em;color: black;border-radius: 0.25em;background-color: #f0f8ff;}#sk-container-id-5 input.sk-toggleable__control:checked~div.sk-toggleable__content {max-height: 200px;max-width: 100%;overflow: auto;}#sk-container-id-5 input.sk-toggleable__control:checked~label.sk-toggleable__label-arrow:before {content: \"▾\";}#sk-container-id-5 div.sk-estimator input.sk-toggleable__control:checked~label.sk-toggleable__label {background-color: #d4ebff;}#sk-container-id-5 div.sk-label input.sk-toggleable__control:checked~label.sk-toggleable__label {background-color: #d4ebff;}#sk-container-id-5 input.sk-hidden--visually {border: 0;clip: rect(1px 1px 1px 1px);clip: rect(1px, 1px, 1px, 1px);height: 1px;margin: -1px;overflow: hidden;padding: 0;position: absolute;width: 1px;}#sk-container-id-5 div.sk-estimator {font-family: monospace;background-color: #f0f8ff;border: 1px dotted black;border-radius: 0.25em;box-sizing: border-box;margin-bottom: 0.5em;}#sk-container-id-5 div.sk-estimator:hover {background-color: #d4ebff;}#sk-container-id-5 div.sk-parallel-item::after {content: \"\";width: 100%;border-bottom: 1px solid gray;flex-grow: 1;}#sk-container-id-5 div.sk-label:hover label.sk-toggleable__label {background-color: #d4ebff;}#sk-container-id-5 div.sk-serial::before {content: \"\";position: absolute;border-left: 1px solid gray;box-sizing: border-box;top: 0;bottom: 0;left: 50%;z-index: 0;}#sk-container-id-5 div.sk-serial {display: flex;flex-direction: column;align-items: center;background-color: white;padding-right: 0.2em;padding-left: 0.2em;position: relative;}#sk-container-id-5 div.sk-item {position: relative;z-index: 1;}#sk-container-id-5 div.sk-parallel {display: flex;align-items: stretch;justify-content: center;background-color: white;position: relative;}#sk-container-id-5 div.sk-item::before, #sk-container-id-5 div.sk-parallel-item::before {content: \"\";position: absolute;border-left: 1px solid gray;box-sizing: border-box;top: 0;bottom: 0;left: 50%;z-index: -1;}#sk-container-id-5 div.sk-parallel-item {display: flex;flex-direction: column;z-index: 1;position: relative;background-color: white;}#sk-container-id-5 div.sk-parallel-item:first-child::after {align-self: flex-end;width: 50%;}#sk-container-id-5 div.sk-parallel-item:last-child::after {align-self: flex-start;width: 50%;}#sk-container-id-5 div.sk-parallel-item:only-child::after {width: 0;}#sk-container-id-5 div.sk-dashed-wrapped {border: 1px dashed gray;margin: 0 0.4em 0.5em 0.4em;box-sizing: border-box;padding-bottom: 0.4em;background-color: white;}#sk-container-id-5 div.sk-label label {font-family: monospace;font-weight: bold;display: inline-block;line-height: 1.2em;}#sk-container-id-5 div.sk-label-container {text-align: center;}#sk-container-id-5 div.sk-container {/* jupyter's `normalize.less` sets `[hidden] { display: none; }` but bootstrap.min.css set `[hidden] { display: none !important; }` so we also need the `!important` here to be able to override the default hidden behavior on the sphinx rendered scikit-learn.org. See: https://github.com/scikit-learn/scikit-learn/issues/21755 */display: inline-block !important;position: relative;}#sk-container-id-5 div.sk-text-repr-fallback {display: none;}</style><div id=\"sk-container-id-5\" class=\"sk-top-container\"><div class=\"sk-text-repr-fallback\"><pre>KNeighborsClassifier()</pre><b>In a Jupyter environment, please rerun this cell to show the HTML representation or trust the notebook. <br />On GitHub, the HTML representation is unable to render, please try loading this page with nbviewer.org.</b></div><div class=\"sk-container\" hidden><div class=\"sk-item\"><div class=\"sk-estimator sk-toggleable\"><input class=\"sk-toggleable__control sk-hidden--visually\" id=\"sk-estimator-id-5\" type=\"checkbox\" checked><label for=\"sk-estimator-id-5\" class=\"sk-toggleable__label sk-toggleable__label-arrow\">KNeighborsClassifier</label><div class=\"sk-toggleable__content\"><pre>KNeighborsClassifier()</pre></div></div></div></div></div>"
      ],
      "text/plain": [
       "KNeighborsClassifier()"
      ]
     },
     "execution_count": 65,
     "metadata": {},
     "output_type": "execute_result"
    }
   ],
   "source": [
    "neigh.fit(X_train_neigh, y_train_neigh)"
   ]
  },
  {
   "cell_type": "markdown",
   "metadata": {},
   "source": [
    "### f. Naive Bayes"
   ]
  },
  {
   "cell_type": "code",
   "execution_count": 66,
   "metadata": {},
   "outputs": [
    {
     "data": {
      "text/html": [
       "<style>#sk-container-id-6 {color: black;background-color: white;}#sk-container-id-6 pre{padding: 0;}#sk-container-id-6 div.sk-toggleable {background-color: white;}#sk-container-id-6 label.sk-toggleable__label {cursor: pointer;display: block;width: 100%;margin-bottom: 0;padding: 0.3em;box-sizing: border-box;text-align: center;}#sk-container-id-6 label.sk-toggleable__label-arrow:before {content: \"▸\";float: left;margin-right: 0.25em;color: #696969;}#sk-container-id-6 label.sk-toggleable__label-arrow:hover:before {color: black;}#sk-container-id-6 div.sk-estimator:hover label.sk-toggleable__label-arrow:before {color: black;}#sk-container-id-6 div.sk-toggleable__content {max-height: 0;max-width: 0;overflow: hidden;text-align: left;background-color: #f0f8ff;}#sk-container-id-6 div.sk-toggleable__content pre {margin: 0.2em;color: black;border-radius: 0.25em;background-color: #f0f8ff;}#sk-container-id-6 input.sk-toggleable__control:checked~div.sk-toggleable__content {max-height: 200px;max-width: 100%;overflow: auto;}#sk-container-id-6 input.sk-toggleable__control:checked~label.sk-toggleable__label-arrow:before {content: \"▾\";}#sk-container-id-6 div.sk-estimator input.sk-toggleable__control:checked~label.sk-toggleable__label {background-color: #d4ebff;}#sk-container-id-6 div.sk-label input.sk-toggleable__control:checked~label.sk-toggleable__label {background-color: #d4ebff;}#sk-container-id-6 input.sk-hidden--visually {border: 0;clip: rect(1px 1px 1px 1px);clip: rect(1px, 1px, 1px, 1px);height: 1px;margin: -1px;overflow: hidden;padding: 0;position: absolute;width: 1px;}#sk-container-id-6 div.sk-estimator {font-family: monospace;background-color: #f0f8ff;border: 1px dotted black;border-radius: 0.25em;box-sizing: border-box;margin-bottom: 0.5em;}#sk-container-id-6 div.sk-estimator:hover {background-color: #d4ebff;}#sk-container-id-6 div.sk-parallel-item::after {content: \"\";width: 100%;border-bottom: 1px solid gray;flex-grow: 1;}#sk-container-id-6 div.sk-label:hover label.sk-toggleable__label {background-color: #d4ebff;}#sk-container-id-6 div.sk-serial::before {content: \"\";position: absolute;border-left: 1px solid gray;box-sizing: border-box;top: 0;bottom: 0;left: 50%;z-index: 0;}#sk-container-id-6 div.sk-serial {display: flex;flex-direction: column;align-items: center;background-color: white;padding-right: 0.2em;padding-left: 0.2em;position: relative;}#sk-container-id-6 div.sk-item {position: relative;z-index: 1;}#sk-container-id-6 div.sk-parallel {display: flex;align-items: stretch;justify-content: center;background-color: white;position: relative;}#sk-container-id-6 div.sk-item::before, #sk-container-id-6 div.sk-parallel-item::before {content: \"\";position: absolute;border-left: 1px solid gray;box-sizing: border-box;top: 0;bottom: 0;left: 50%;z-index: -1;}#sk-container-id-6 div.sk-parallel-item {display: flex;flex-direction: column;z-index: 1;position: relative;background-color: white;}#sk-container-id-6 div.sk-parallel-item:first-child::after {align-self: flex-end;width: 50%;}#sk-container-id-6 div.sk-parallel-item:last-child::after {align-self: flex-start;width: 50%;}#sk-container-id-6 div.sk-parallel-item:only-child::after {width: 0;}#sk-container-id-6 div.sk-dashed-wrapped {border: 1px dashed gray;margin: 0 0.4em 0.5em 0.4em;box-sizing: border-box;padding-bottom: 0.4em;background-color: white;}#sk-container-id-6 div.sk-label label {font-family: monospace;font-weight: bold;display: inline-block;line-height: 1.2em;}#sk-container-id-6 div.sk-label-container {text-align: center;}#sk-container-id-6 div.sk-container {/* jupyter's `normalize.less` sets `[hidden] { display: none; }` but bootstrap.min.css set `[hidden] { display: none !important; }` so we also need the `!important` here to be able to override the default hidden behavior on the sphinx rendered scikit-learn.org. See: https://github.com/scikit-learn/scikit-learn/issues/21755 */display: inline-block !important;position: relative;}#sk-container-id-6 div.sk-text-repr-fallback {display: none;}</style><div id=\"sk-container-id-6\" class=\"sk-top-container\"><div class=\"sk-text-repr-fallback\"><pre>GaussianNB()</pre><b>In a Jupyter environment, please rerun this cell to show the HTML representation or trust the notebook. <br />On GitHub, the HTML representation is unable to render, please try loading this page with nbviewer.org.</b></div><div class=\"sk-container\" hidden><div class=\"sk-item\"><div class=\"sk-estimator sk-toggleable\"><input class=\"sk-toggleable__control sk-hidden--visually\" id=\"sk-estimator-id-6\" type=\"checkbox\" checked><label for=\"sk-estimator-id-6\" class=\"sk-toggleable__label sk-toggleable__label-arrow\">GaussianNB</label><div class=\"sk-toggleable__content\"><pre>GaussianNB()</pre></div></div></div></div></div>"
      ],
      "text/plain": [
       "GaussianNB()"
      ]
     },
     "execution_count": 66,
     "metadata": {},
     "output_type": "execute_result"
    }
   ],
   "source": [
    "gnb.fit(X_train_gnb,y_train_gnb)"
   ]
  },
  {
   "cell_type": "markdown",
   "metadata": {},
   "source": [
    "### g. AdaBoost"
   ]
  },
  {
   "cell_type": "code",
   "execution_count": 67,
   "metadata": {},
   "outputs": [
    {
     "data": {
      "text/html": [
       "<style>#sk-container-id-7 {color: black;background-color: white;}#sk-container-id-7 pre{padding: 0;}#sk-container-id-7 div.sk-toggleable {background-color: white;}#sk-container-id-7 label.sk-toggleable__label {cursor: pointer;display: block;width: 100%;margin-bottom: 0;padding: 0.3em;box-sizing: border-box;text-align: center;}#sk-container-id-7 label.sk-toggleable__label-arrow:before {content: \"▸\";float: left;margin-right: 0.25em;color: #696969;}#sk-container-id-7 label.sk-toggleable__label-arrow:hover:before {color: black;}#sk-container-id-7 div.sk-estimator:hover label.sk-toggleable__label-arrow:before {color: black;}#sk-container-id-7 div.sk-toggleable__content {max-height: 0;max-width: 0;overflow: hidden;text-align: left;background-color: #f0f8ff;}#sk-container-id-7 div.sk-toggleable__content pre {margin: 0.2em;color: black;border-radius: 0.25em;background-color: #f0f8ff;}#sk-container-id-7 input.sk-toggleable__control:checked~div.sk-toggleable__content {max-height: 200px;max-width: 100%;overflow: auto;}#sk-container-id-7 input.sk-toggleable__control:checked~label.sk-toggleable__label-arrow:before {content: \"▾\";}#sk-container-id-7 div.sk-estimator input.sk-toggleable__control:checked~label.sk-toggleable__label {background-color: #d4ebff;}#sk-container-id-7 div.sk-label input.sk-toggleable__control:checked~label.sk-toggleable__label {background-color: #d4ebff;}#sk-container-id-7 input.sk-hidden--visually {border: 0;clip: rect(1px 1px 1px 1px);clip: rect(1px, 1px, 1px, 1px);height: 1px;margin: -1px;overflow: hidden;padding: 0;position: absolute;width: 1px;}#sk-container-id-7 div.sk-estimator {font-family: monospace;background-color: #f0f8ff;border: 1px dotted black;border-radius: 0.25em;box-sizing: border-box;margin-bottom: 0.5em;}#sk-container-id-7 div.sk-estimator:hover {background-color: #d4ebff;}#sk-container-id-7 div.sk-parallel-item::after {content: \"\";width: 100%;border-bottom: 1px solid gray;flex-grow: 1;}#sk-container-id-7 div.sk-label:hover label.sk-toggleable__label {background-color: #d4ebff;}#sk-container-id-7 div.sk-serial::before {content: \"\";position: absolute;border-left: 1px solid gray;box-sizing: border-box;top: 0;bottom: 0;left: 50%;z-index: 0;}#sk-container-id-7 div.sk-serial {display: flex;flex-direction: column;align-items: center;background-color: white;padding-right: 0.2em;padding-left: 0.2em;position: relative;}#sk-container-id-7 div.sk-item {position: relative;z-index: 1;}#sk-container-id-7 div.sk-parallel {display: flex;align-items: stretch;justify-content: center;background-color: white;position: relative;}#sk-container-id-7 div.sk-item::before, #sk-container-id-7 div.sk-parallel-item::before {content: \"\";position: absolute;border-left: 1px solid gray;box-sizing: border-box;top: 0;bottom: 0;left: 50%;z-index: -1;}#sk-container-id-7 div.sk-parallel-item {display: flex;flex-direction: column;z-index: 1;position: relative;background-color: white;}#sk-container-id-7 div.sk-parallel-item:first-child::after {align-self: flex-end;width: 50%;}#sk-container-id-7 div.sk-parallel-item:last-child::after {align-self: flex-start;width: 50%;}#sk-container-id-7 div.sk-parallel-item:only-child::after {width: 0;}#sk-container-id-7 div.sk-dashed-wrapped {border: 1px dashed gray;margin: 0 0.4em 0.5em 0.4em;box-sizing: border-box;padding-bottom: 0.4em;background-color: white;}#sk-container-id-7 div.sk-label label {font-family: monospace;font-weight: bold;display: inline-block;line-height: 1.2em;}#sk-container-id-7 div.sk-label-container {text-align: center;}#sk-container-id-7 div.sk-container {/* jupyter's `normalize.less` sets `[hidden] { display: none; }` but bootstrap.min.css set `[hidden] { display: none !important; }` so we also need the `!important` here to be able to override the default hidden behavior on the sphinx rendered scikit-learn.org. See: https://github.com/scikit-learn/scikit-learn/issues/21755 */display: inline-block !important;position: relative;}#sk-container-id-7 div.sk-text-repr-fallback {display: none;}</style><div id=\"sk-container-id-7\" class=\"sk-top-container\"><div class=\"sk-text-repr-fallback\"><pre>AdaBoostClassifier(random_state=20)</pre><b>In a Jupyter environment, please rerun this cell to show the HTML representation or trust the notebook. <br />On GitHub, the HTML representation is unable to render, please try loading this page with nbviewer.org.</b></div><div class=\"sk-container\" hidden><div class=\"sk-item\"><div class=\"sk-estimator sk-toggleable\"><input class=\"sk-toggleable__control sk-hidden--visually\" id=\"sk-estimator-id-7\" type=\"checkbox\" checked><label for=\"sk-estimator-id-7\" class=\"sk-toggleable__label sk-toggleable__label-arrow\">AdaBoostClassifier</label><div class=\"sk-toggleable__content\"><pre>AdaBoostClassifier(random_state=20)</pre></div></div></div></div></div>"
      ],
      "text/plain": [
       "AdaBoostClassifier(random_state=20)"
      ]
     },
     "execution_count": 67,
     "metadata": {},
     "output_type": "execute_result"
    }
   ],
   "source": [
    "ada_clf.fit(X_train_ada, y_train_ada)"
   ]
  },
  {
   "cell_type": "markdown",
   "metadata": {},
   "source": [
    "## VIII. Model Evaluation"
   ]
  },
  {
   "cell_type": "markdown",
   "metadata": {},
   "source": [
    "### a. Logistic Regression"
   ]
  },
  {
   "cell_type": "code",
   "execution_count": 324,
   "metadata": {},
   "outputs": [],
   "source": [
    "# Syntax used to find the probability in of where our predicted outcome will land on (0 [not default payment] or 1 [default payment]).\n",
    "# There are two output for each data entry / value, one for probability that outcome will be 0, and the other probability it will be 1.\n",
    "# Both outputs are in percentages.\n",
    "\n",
    "y_train_log_prob = log_model.predict_proba(X_train_log)\n",
    "y_test_log_prob = log_model.predict_proba(X_test_log)"
   ]
  },
  {
   "cell_type": "code",
   "execution_count": 325,
   "metadata": {},
   "outputs": [],
   "source": [
    "# Similar to predict_proba, this syntax is used to find the outcome of our prediction for each data entry / value\n",
    "# (output will be either 0 [not default payment] or 1 [default payment]).\n",
    "\n",
    "y_pred_train_log = log_model.predict(X_train_log)\n",
    "y_pred_test_log = log_model.predict(X_test_log)"
   ]
  },
  {
   "cell_type": "markdown",
   "metadata": {},
   "source": [
    "References for predict_proba and predict: \n",
    "- https://bit.ly/3SjoVgG\n",
    "- https://bit.ly/3S0osjF"
   ]
  },
  {
   "cell_type": "code",
   "execution_count": 326,
   "metadata": {},
   "outputs": [
    {
     "data": {
      "image/png": "[encoded data removed]",
      "text/plain": [
       "<Figure size 432x288 with 2 Axes>"
      ]
     },
     "metadata": {
      "needs_background": "light"
     },
     "output_type": "display_data"
    }
   ],
   "source": [
    "# A confusion matrix is a summary of prediction results on a classification problem.\n",
    "# The number of correct and incorrect predictions are summarized with count values and broken down by each class.\n",
    "\n",
    "cm_log = confusion_matrix(y_test_log, y_pred_test_log, labels=log_model.classes_)\n",
    "disp_log = ConfusionMatrixDisplay(confusion_matrix=cm_log,display_labels=log_model.classes_)\n",
    "\n",
    "disp_log.plot()\n",
    "plt.show()\n",
    "\n",
    "# Reference: https://bit.ly/3QUJkaN"
   ]
  },
  {
   "cell_type": "markdown",
   "metadata": {},
   "source": [
    "The Logistic Regression model could have an predicting outcome of 680 True Negatives (0), 54 True Positives (1), and a False Negative and False Positive of 137 and 19 respectively."
   ]
  },
  {
   "cell_type": "code",
   "execution_count": 327,
   "metadata": {},
   "outputs": [
    {
     "name": "stdout",
     "output_type": "stream",
     "text": [
      "              precision    recall  f1-score   support\n",
      "\n",
      "           0       0.84      0.98      0.90      1631\n",
      "           1       0.79      0.33      0.46       444\n",
      "\n",
      "    accuracy                           0.84      2075\n",
      "   macro avg       0.82      0.65      0.68      2075\n",
      "weighted avg       0.83      0.84      0.81      2075\n",
      "\n",
      "Train ROC-AUC Score:  0.7329520661065725\n"
     ]
    }
   ],
   "source": [
    "# Printing Classification report for our Train Set.\n",
    "print(classification_report(y_train_log,y_pred_train_log))\n",
    "print('Train ROC-AUC Score: ', roc_auc_score(y_train_log, y_train_log_prob[:,1]))"
   ]
  },
  {
   "cell_type": "code",
   "execution_count": 328,
   "metadata": {},
   "outputs": [
    {
     "name": "stdout",
     "output_type": "stream",
     "text": [
      "              precision    recall  f1-score   support\n",
      "\n",
      "           0       0.83      0.97      0.90       699\n",
      "           1       0.74      0.28      0.41       191\n",
      "\n",
      "    accuracy                           0.82       890\n",
      "   macro avg       0.79      0.63      0.65       890\n",
      "weighted avg       0.81      0.82      0.79       890\n",
      "\n",
      "Test ROC-AUC Score:  0.7569527147982533\n"
     ]
    }
   ],
   "source": [
    "# Printing Classification report for our Test Set.\n",
    "print(classification_report(y_test_log,y_pred_test_log))\n",
    "print('Test ROC-AUC Score: ', roc_auc_score(y_test_log, y_test_log_prob[:,1]))"
   ]
  },
  {
   "cell_type": "markdown",
   "metadata": {},
   "source": [
    "For the Classification Report, it is important we look to that of the Test set, with the Train set present as additional information. The following is the interpretation of the classification report:\n",
    "\n",
    "- For all scores except support, the range of the output is 0 - 1.\n",
    "- The closer the Precision is to the value 1, the lesser the False Positive is.\n",
    "- The closer the Recall is to the value 1, the lesser the False Negative is.\n",
    "- F1 Score is the weighted harmonic mean of precision and recall. The closer to 1, the better the model.\n",
    "\n",
    "    F1 Score: 2 * (Precision * Recall) / (Precision + Recall)\n",
    "\n",
    "- Support describes how many data entries belonged to each class (0 or 1) in the dataset.\n",
    "\n",
    "The ROC-AUC score tells how much the model is capable of distinguishing between classes. Higher the AUC, the better the model is at predicting 0 classes as 0 and 1 classes as 1.\n",
    "\n",
    "We will have to note that there are different definitions when it comes to the confusion matrix and the classification report. In the confusion matrix, the class 0 is considered to be a negative, and the class 1 positive. This notion is fixed. On the other hand, in the classification report, we could see two rows containing class 0 and class 1. In either case, the \"positive\" class is whichever row you are looking at. For example, when looking at the precision and recall of class 0, we consider \"0\" as the positive, and vice-versa.\n",
    "\n",
    "For our Logistic Regression then, for class 0, we could ascertain that model could predict 680 true positives out of a total of 817 predictions (137 predictions being false positive), which attributes to 0.83 / 83% precision. In addition, it could predict 680 true positives out of a total of 699 predictions (19 being false negative), which attributes to 0.97 / 97% recall.\n",
    "\n",
    "On the other hand, for class 1, the model could predict 54 true positives out of a total of 73 predictions (19 predictions being false positive), which attributes to 0.74 / 74% precision. In addition, it could predict only 54 out of a total of 191 predictions (137 predictions being false negative), which attributes to a poor 0.28 / 28% recall.\n",
    "\n",
    "Precision and recall is looked upon in specific cases. For example, in our case, there would be an infliction of financial lost if we are to accidentally not default a customer's credit card when in fact he / she has not yet paid the previous monthly bill(s). In such a case, we will be focusing on the recall for class 1 (which is 28% for the Logistic Regression). However, the same could be said of the opposite scenario. Having default a customer's credit card by accident, when in fact he / she has paid previous monthly bill(s) could damage our customer relations, and we risk losing them as well. In such a case, we should be focusing on the recall for class 0. Therefore, we will be focusing on the recalls for both class 0 and 1 for our dataset.\n",
    "\n",
    "F1-Score is used when we focus on both precision and recall of our dataset. Since we are only using recall, we will not be using f1-score.\n",
    "\n",
    "The Support describes the degree of imbalance of our classes where if the count for one class of outcome is only 20 - 40% of the other, it is considered to be a mild imbalance. If the it is 1 - 20%, then it is moderately imbalanced. If the imbalance falls below 1%, then it is considered extreme. In most cases, we would have to handle this imbalance if it falls on the extreme category. For our dataset however, we have a mild imbalance of about 27%, in which there are 1631 entries that have an outcome of 0 and 444 entries that have an outcome of 1 for our Logistic Regression Train set. For the Test set, there are 699 entries that have an outcome of 0 and 191 entries that have an outcome of 1.\n",
    "\n",
    "The Accuracy is defined as a ratio of correctly predicted observation to the total observations. It is used only when there is a balance between classes in our dataset. Since our dataset is imbalanced, we will not be using accuracy.\n",
    "\n",
    "The ROC-AUC Score in our case would only be used to ascertain the fit of our model."
   ]
  },
  {
   "cell_type": "markdown",
   "metadata": {},
   "source": [
    "As such, looking at the Test Set for the Logistic Regression Model, we could conclude that:\n",
    "\n",
    "- Class 0 Recall is 0.97 / 97%\n",
    "- Class 1 Recall is 0.28 / 28%\n",
    "- Dataset is mildly imbalanced at 27%\n",
    "- ROC-AUC score of 73% for Train Set and 76% for Test Set. Assuming that range of 1% determines if model is fit, then we can conclude that this model is underfitting.\n",
    "\n",
    "For Class 0, a threshold of 50% is assumed for the recall, where a value above 50% makes the model more likely to accurately not default a customer's credit card, whilst a value below 50% makes the model more likely to inaccurately default a customer's credit card. Class 0 has great recall which means that we only risk very little in terms of outlash in customer relations.\n",
    "\n",
    "For Class 1, we have a very poor recall at 27%. This could be attributed to class imbalance. With it, we risk heavy financial losses from unpaid debt (credit card bills). Additionally, this debt could stack up if the card users keep using the credit card without paying their bills."
   ]
  },
  {
   "cell_type": "markdown",
   "metadata": {},
   "source": [
    "### b. Support Vector Machines (SVM)"
   ]
  },
  {
   "cell_type": "code",
   "execution_count": 329,
   "metadata": {},
   "outputs": [],
   "source": [
    "y_train_svm_prob = svm.predict_proba(X_train_svm)\n",
    "y_test_svm_prob = svm.predict_proba(X_test_svm)"
   ]
  },
  {
   "cell_type": "code",
   "execution_count": 330,
   "metadata": {},
   "outputs": [],
   "source": [
    "y_pred_train_svm = svm.predict(X_train_svm)\n",
    "y_pred_test_svm = svm.predict(X_test_svm)"
   ]
  },
  {
   "cell_type": "code",
   "execution_count": 331,
   "metadata": {},
   "outputs": [
    {
     "data": {
      "image/png": "[encoded data removed]",
      "text/plain": [
       "<Figure size 432x288 with 2 Axes>"
      ]
     },
     "metadata": {
      "needs_background": "light"
     },
     "output_type": "display_data"
    }
   ],
   "source": [
    "cm_svm = confusion_matrix(y_test_svm, y_pred_test_svm, labels=svm.classes_)\n",
    "disp_svm = ConfusionMatrixDisplay(confusion_matrix=cm_svm,display_labels=svm.classes_)\n",
    "\n",
    "disp_svm.plot()\n",
    "plt.show()"
   ]
  },
  {
   "cell_type": "markdown",
   "metadata": {},
   "source": [
    "The Support Vector Machines (SVM) could have an predicting outcome of 665 True Negatives (0), 80 True Positives (1), and a False Negative and False Positive of 111 and 34 respectively."
   ]
  },
  {
   "cell_type": "code",
   "execution_count": 332,
   "metadata": {},
   "outputs": [
    {
     "name": "stdout",
     "output_type": "stream",
     "text": [
      "              precision    recall  f1-score   support\n",
      "\n",
      "           0       0.86      0.96      0.91      1631\n",
      "           1       0.76      0.42      0.54       444\n",
      "\n",
      "    accuracy                           0.85      2075\n",
      "   macro avg       0.81      0.69      0.73      2075\n",
      "weighted avg       0.84      0.85      0.83      2075\n",
      "\n",
      "Train ROC-AUC Score:  0.7329755414519363\n"
     ]
    }
   ],
   "source": [
    "print(classification_report(y_train_svm,y_pred_train_svm))\n",
    "print('Train ROC-AUC Score: ', roc_auc_score(y_train_svm, y_train_svm_prob[:,1]))"
   ]
  },
  {
   "cell_type": "code",
   "execution_count": 333,
   "metadata": {},
   "outputs": [
    {
     "name": "stdout",
     "output_type": "stream",
     "text": [
      "              precision    recall  f1-score   support\n",
      "\n",
      "           0       0.86      0.95      0.90       699\n",
      "           1       0.70      0.42      0.52       191\n",
      "\n",
      "    accuracy                           0.84       890\n",
      "   macro avg       0.78      0.69      0.71       890\n",
      "weighted avg       0.82      0.84      0.82       890\n",
      "\n",
      "Test ROC-AUC Score:  0.689241923765439\n"
     ]
    }
   ],
   "source": [
    "print(classification_report(y_test_svm,y_pred_test_svm))\n",
    "print('Test ROC-AUC Score: ', roc_auc_score(y_test_svm, y_test_svm_prob[:,1]))"
   ]
  },
  {
   "cell_type": "markdown",
   "metadata": {},
   "source": [
    "Looking at the Test Set for the SVM Model, we could conclude that:\n",
    "\n",
    "- Class 0 Recall is 0.95 / 95%\n",
    "- Class 1 Recall is 0.42 / 42%\n",
    "- Dataset is again mildly imbalanced at 27%\n",
    "- ROC-AUC score of 73% for Train Set and 69% for Test Set. Assuming that range of 1% determines if model is fit, then we can conclude that this model is overfitting.\n",
    "\n",
    "Class 0 has great recall which means that we only risk very little in terms of outlash in customer relations.\n",
    "\n",
    "Recall in Class 1 is 42%. With it, we risk some financial losses from unpaid debt (credit card bills), and additional debt stacking from card overuse (assuming customers would still not settle bills)."
   ]
  },
  {
   "cell_type": "markdown",
   "metadata": {},
   "source": [
    "### c. Decision Tree"
   ]
  },
  {
   "cell_type": "code",
   "execution_count": 334,
   "metadata": {},
   "outputs": [],
   "source": [
    "y_train_tree_prob = tree_clf.predict_proba(X_train_tree)\n",
    "y_test_tree_prob = tree_clf.predict_proba(X_test_tree)"
   ]
  },
  {
   "cell_type": "code",
   "execution_count": 335,
   "metadata": {},
   "outputs": [],
   "source": [
    "y_pred_train_tree = tree_clf.predict(X_train_tree)\n",
    "y_pred_test_tree = tree_clf.predict(X_test_tree)"
   ]
  },
  {
   "cell_type": "code",
   "execution_count": 336,
   "metadata": {},
   "outputs": [
    {
     "data": {
      "image/png": "[encoded data removed]",
      "text/plain": [
       "<Figure size 432x288 with 2 Axes>"
      ]
     },
     "metadata": {
      "needs_background": "light"
     },
     "output_type": "display_data"
    }
   ],
   "source": [
    "cm_tree = confusion_matrix(y_test_tree, y_pred_test_tree, labels=tree_clf.classes_)\n",
    "disp_tree = ConfusionMatrixDisplay(confusion_matrix=cm_tree,display_labels=tree_clf.classes_)\n",
    "\n",
    "disp_tree.plot()\n",
    "plt.show()"
   ]
  },
  {
   "cell_type": "markdown",
   "metadata": {},
   "source": [
    "The Decision Tree model could have an predicting outcome of 658 True Negatives (0), 74 True Positives (1), and a False Negative and False Positive of 117 and 41 respectively."
   ]
  },
  {
   "cell_type": "code",
   "execution_count": 337,
   "metadata": {},
   "outputs": [
    {
     "name": "stdout",
     "output_type": "stream",
     "text": [
      "              precision    recall  f1-score   support\n",
      "\n",
      "           0       0.87      0.98      0.92      1631\n",
      "           1       0.85      0.48      0.61       444\n",
      "\n",
      "    accuracy                           0.87      2075\n",
      "   macro avg       0.86      0.73      0.77      2075\n",
      "weighted avg       0.87      0.87      0.85      2075\n",
      "\n",
      "Train ROC-AUC Score:  0.8467467314033839\n"
     ]
    }
   ],
   "source": [
    "print(classification_report(y_train_tree,y_pred_train_tree))\n",
    "print('Train ROC-AUC Score: ', roc_auc_score(y_train_tree, y_train_tree_prob[:,1]))"
   ]
  },
  {
   "cell_type": "code",
   "execution_count": 338,
   "metadata": {},
   "outputs": [
    {
     "name": "stdout",
     "output_type": "stream",
     "text": [
      "              precision    recall  f1-score   support\n",
      "\n",
      "           0       0.85      0.94      0.89       699\n",
      "           1       0.64      0.39      0.48       191\n",
      "\n",
      "    accuracy                           0.82       890\n",
      "   macro avg       0.75      0.66      0.69       890\n",
      "weighted avg       0.80      0.82      0.81       890\n",
      "\n",
      "Test ROC-AUC Score:  0.7134837351789017\n"
     ]
    }
   ],
   "source": [
    "print(classification_report(y_test_tree,y_pred_test_tree))\n",
    "print('Test ROC-AUC Score: ', roc_auc_score(y_test_tree, y_test_tree_prob[:,1]))"
   ]
  },
  {
   "cell_type": "markdown",
   "metadata": {},
   "source": [
    "Looking at the Test Set for the Decision Tree Model, we could conclude that:\n",
    "\n",
    "- Class 0 Recall is 0.94 / 94%\n",
    "- Class 1 Recall is 0.39 / 39%\n",
    "- Dataset is mildly imbalanced at 27%\n",
    "- ROC-AUC score of 85% for Train Set and 71% for Test Set. Assuming that range of 1% determines if model is fit, then we can conclude that this model is overfitting.\n",
    "\n",
    "Class 0 has great recall which means that we only risk very little in terms of outlash in customer relations.\n",
    "\n",
    "We risk financial losses from poor recall in Class 1."
   ]
  },
  {
   "cell_type": "markdown",
   "metadata": {},
   "source": [
    "### d. Random Forest"
   ]
  },
  {
   "cell_type": "code",
   "execution_count": 339,
   "metadata": {},
   "outputs": [],
   "source": [
    "y_train_rnd_prob = rnd_clf.predict_proba(X_train_rnd)\n",
    "y_test_rnd_prob = rnd_clf.predict_proba(X_test_rnd)"
   ]
  },
  {
   "cell_type": "code",
   "execution_count": 340,
   "metadata": {},
   "outputs": [],
   "source": [
    "y_pred_train_rnd = rnd_clf.predict(X_train_rnd)\n",
    "y_pred_test_rnd = rnd_clf.predict(X_test_rnd)"
   ]
  },
  {
   "cell_type": "code",
   "execution_count": 341,
   "metadata": {},
   "outputs": [
    {
     "data": {
      "image/png": "[encoded data removed]",
      "text/plain": [
       "<Figure size 432x288 with 2 Axes>"
      ]
     },
     "metadata": {
      "needs_background": "light"
     },
     "output_type": "display_data"
    }
   ],
   "source": [
    "cm_rnd = confusion_matrix(y_test_rnd, y_pred_test_rnd, labels=rnd_clf.classes_)\n",
    "disp_rnd = ConfusionMatrixDisplay(confusion_matrix=cm_rnd,display_labels=rnd_clf.classes_)\n",
    "\n",
    "disp_rnd.plot()\n",
    "plt.show()"
   ]
  },
  {
   "cell_type": "markdown",
   "metadata": {},
   "source": [
    "The Random Forest model could have an predicting outcome of 659 True Negatives (0), 76 True Positives (1), and a False Negative and False Positive of 115 and 40 respectively."
   ]
  },
  {
   "cell_type": "code",
   "execution_count": 342,
   "metadata": {},
   "outputs": [
    {
     "name": "stdout",
     "output_type": "stream",
     "text": [
      "              precision    recall  f1-score   support\n",
      "\n",
      "           0       0.87      0.97      0.92      1631\n",
      "           1       0.84      0.48      0.61       444\n",
      "\n",
      "    accuracy                           0.87      2075\n",
      "   macro avg       0.86      0.73      0.77      2075\n",
      "weighted avg       0.87      0.87      0.86      2075\n",
      "\n",
      "Train ROC-AUC Score:  0.8378550991211936\n"
     ]
    }
   ],
   "source": [
    "print(classification_report(y_train_rnd,y_pred_train_rnd))\n",
    "print('Train ROC-AUC Score: ', roc_auc_score(y_train_rnd, y_train_rnd_prob[:,1]))"
   ]
  },
  {
   "cell_type": "code",
   "execution_count": 343,
   "metadata": {},
   "outputs": [
    {
     "name": "stdout",
     "output_type": "stream",
     "text": [
      "              precision    recall  f1-score   support\n",
      "\n",
      "           0       0.85      0.94      0.89       699\n",
      "           1       0.66      0.40      0.50       191\n",
      "\n",
      "    accuracy                           0.83       890\n",
      "   macro avg       0.75      0.67      0.69       890\n",
      "weighted avg       0.81      0.83      0.81       890\n",
      "\n",
      "Test ROC-AUC Score:  0.7309994082795915\n"
     ]
    }
   ],
   "source": [
    "print(classification_report(y_test_rnd,y_pred_test_rnd))\n",
    "print('Test ROC-AUC Score: ', roc_auc_score(y_test_rnd, y_test_rnd_prob[:,1]))"
   ]
  },
  {
   "cell_type": "markdown",
   "metadata": {},
   "source": [
    "Looking at the Test Set for the Random Forest Model, we could conclude that:\n",
    "\n",
    "- Class 0 Recall is 0.94 / 94%\n",
    "- Class 1 Recall is 0.40 / 40%\n",
    "- Dataset is mildly imbalanced at 27%\n",
    "- ROC-AUC score of 84% for Train Set and 73% for Test Set. Assuming that range of 1% determines if model is fit, then we can conclude that this model is overfitting.\n",
    "\n",
    "Class 0 has great recall which means that we only risk very little in terms of outlash in customer relations.\n",
    "\n",
    "We risk financial losses from poor recall in Class 1."
   ]
  },
  {
   "cell_type": "markdown",
   "metadata": {},
   "source": [
    "### e. K-Nearest Neighbors (KNN)"
   ]
  },
  {
   "cell_type": "code",
   "execution_count": 344,
   "metadata": {},
   "outputs": [],
   "source": [
    "y_train_neigh_prob = neigh.predict_proba(X_train_neigh)\n",
    "y_test_neigh_prob = neigh.predict_proba(X_test_neigh)"
   ]
  },
  {
   "cell_type": "code",
   "execution_count": 345,
   "metadata": {},
   "outputs": [],
   "source": [
    "y_pred_train_neigh = neigh.predict(X_train_neigh)\n",
    "y_pred_test_neigh = neigh.predict(X_test_neigh)"
   ]
  },
  {
   "cell_type": "code",
   "execution_count": 346,
   "metadata": {},
   "outputs": [
    {
     "data": {
      "image/png": "[encoded data removed]",
      "text/plain": [
       "<Figure size 432x288 with 2 Axes>"
      ]
     },
     "metadata": {
      "needs_background": "light"
     },
     "output_type": "display_data"
    }
   ],
   "source": [
    "cm_neigh = confusion_matrix(y_test_neigh, y_pred_test_neigh, labels=neigh.classes_)\n",
    "disp_neigh = ConfusionMatrixDisplay(confusion_matrix=cm_neigh,display_labels=neigh.classes_)\n",
    "\n",
    "disp_neigh.plot()\n",
    "plt.show()"
   ]
  },
  {
   "cell_type": "markdown",
   "metadata": {},
   "source": [
    "The K-Nearest Neighbors (KNN) model could have a predicting outcome of 644 True Negatives (0), 76 True Positives (1), and a False Negative and False Positive of 115 and 55 respectively."
   ]
  },
  {
   "cell_type": "code",
   "execution_count": 347,
   "metadata": {},
   "outputs": [
    {
     "name": "stdout",
     "output_type": "stream",
     "text": [
      "              precision    recall  f1-score   support\n",
      "\n",
      "           0       0.86      0.95      0.90      1631\n",
      "           1       0.70      0.45      0.55       444\n",
      "\n",
      "    accuracy                           0.84      2075\n",
      "   macro avg       0.78      0.70      0.73      2075\n",
      "weighted avg       0.83      0.84      0.83      2075\n",
      "\n",
      "Train ROC-AUC Score:  0.7648509177479135\n"
     ]
    }
   ],
   "source": [
    "print(classification_report(y_train_neigh,y_pred_train_neigh))\n",
    "print('Train ROC-AUC Score: ', roc_auc_score(y_train_neigh, y_train_neigh_prob[:,1]))"
   ]
  },
  {
   "cell_type": "code",
   "execution_count": 348,
   "metadata": {},
   "outputs": [
    {
     "name": "stdout",
     "output_type": "stream",
     "text": [
      "              precision    recall  f1-score   support\n",
      "\n",
      "           0       0.85      0.92      0.88       699\n",
      "           1       0.58      0.40      0.47       191\n",
      "\n",
      "    accuracy                           0.81       890\n",
      "   macro avg       0.71      0.66      0.68       890\n",
      "weighted avg       0.79      0.81      0.80       890\n",
      "\n",
      "Test ROC-AUC Score:  0.7164910230770959\n"
     ]
    }
   ],
   "source": [
    "print(classification_report(y_test_neigh,y_pred_test_neigh))\n",
    "print('Test ROC-AUC Score: ', roc_auc_score(y_test_neigh, y_test_neigh_prob[:,1]))"
   ]
  },
  {
   "cell_type": "markdown",
   "metadata": {},
   "source": [
    "Looking at the Test Set for the KNN Model, we could conclude that:\n",
    "\n",
    "- Class 0 Recall is 0.92 / 92%\n",
    "- Class 1 Recall is 0.40 / 40%\n",
    "- Dataset is mildly imbalanced at 27%\n",
    "- ROC-AUC score of 77% for Train Set and 72% for Test Set. Assuming that range of 1% determines if model is fit, then we can conclude that this model is overfitting.\n",
    "\n",
    "Class 0 has great recall which means that we only risk very little in terms of outlash in customer relations.\n",
    "\n",
    "We risk financial losses from poor recall in Class 1."
   ]
  },
  {
   "cell_type": "markdown",
   "metadata": {},
   "source": [
    "### f. Naive Bayes"
   ]
  },
  {
   "cell_type": "code",
   "execution_count": 69,
   "metadata": {},
   "outputs": [],
   "source": [
    "y_train_gnb_prob = gnb.predict_proba(X_train_gnb)\n",
    "y_test_gnb_prob = gnb.predict_proba(X_test_gnb)"
   ]
  },
  {
   "cell_type": "code",
   "execution_count": 70,
   "metadata": {},
   "outputs": [],
   "source": [
    "y_pred_train_gnb = gnb.predict(X_train_gnb)\n",
    "y_pred_test_gnb = gnb.predict(X_test_gnb)"
   ]
  },
  {
   "cell_type": "code",
   "execution_count": 71,
   "metadata": {},
   "outputs": [
    {
     "data": {
      "image/png": "[encoded data removed]",
      "text/plain": [
       "<Figure size 432x288 with 2 Axes>"
      ]
     },
     "metadata": {
      "needs_background": "light"
     },
     "output_type": "display_data"
    }
   ],
   "source": [
    "cm_gnb = confusion_matrix(y_test_gnb, y_pred_test_gnb, labels=gnb.classes_)\n",
    "disp_gnb = ConfusionMatrixDisplay(confusion_matrix=cm_gnb,display_labels=gnb.classes_)\n",
    "\n",
    "disp_gnb.plot()\n",
    "plt.show()"
   ]
  },
  {
   "cell_type": "markdown",
   "metadata": {},
   "source": [
    "The Naive Bayes model could have a predicting outcome of 645 True Negatives (0), 90 True Positives (1), and a False Negative and False Positive of 101 and 54 respectively."
   ]
  },
  {
   "cell_type": "code",
   "execution_count": 72,
   "metadata": {},
   "outputs": [
    {
     "name": "stdout",
     "output_type": "stream",
     "text": [
      "              precision    recall  f1-score   support\n",
      "\n",
      "           0       0.86      0.91      0.88      1631\n",
      "           1       0.58      0.43      0.50       444\n",
      "\n",
      "    accuracy                           0.81      2075\n",
      "   macro avg       0.72      0.67      0.69      2075\n",
      "weighted avg       0.80      0.81      0.80      2075\n",
      "\n",
      "Train ROC-AUC Score:  0.7407962837147387\n"
     ]
    }
   ],
   "source": [
    "print(classification_report(y_train_gnb,y_pred_train_gnb))\n",
    "print('Train ROC-AUC Score: ', roc_auc_score(y_train_gnb, y_train_gnb_prob[:,1]))"
   ]
  },
  {
   "cell_type": "code",
   "execution_count": 73,
   "metadata": {},
   "outputs": [
    {
     "name": "stdout",
     "output_type": "stream",
     "text": [
      "              precision    recall  f1-score   support\n",
      "\n",
      "           0       0.86      0.92      0.89       699\n",
      "           1       0.62      0.47      0.54       191\n",
      "\n",
      "    accuracy                           0.83       890\n",
      "   macro avg       0.74      0.70      0.72       890\n",
      "weighted avg       0.81      0.83      0.82       890\n",
      "\n",
      "Test ROC-AUC Score:  0.7695061756136289\n"
     ]
    }
   ],
   "source": [
    "print(classification_report(y_test_gnb,y_pred_test_gnb))\n",
    "print('Test ROC-AUC Score: ', roc_auc_score(y_test_gnb, y_test_gnb_prob[:,1]))"
   ]
  },
  {
   "cell_type": "markdown",
   "metadata": {},
   "source": [
    "Looking at the Test Set for the Naive Bayes Model, we could conclude that:\n",
    "\n",
    "- Class 0 Recall is 0.92 / 92%\n",
    "- Class 1 Recall is 0.47 / 47%\n",
    "- Dataset is mildly imbalanced at 27%\n",
    "- ROC-AUC score of 74% for Train Set and 77% for Test Set. Assuming that range of 1% determines if model is fit, then we can conclude that this model is undefitting.\n",
    "\n",
    "Class 0 has great recall which means that we only risk very little in terms of outlash in customer relations.\n",
    "\n",
    "We risk financial losses due to poor recall in Class 1."
   ]
  },
  {
   "cell_type": "markdown",
   "metadata": {},
   "source": [
    "### g. AdaBoost"
   ]
  },
  {
   "cell_type": "code",
   "execution_count": 101,
   "metadata": {},
   "outputs": [],
   "source": [
    "y_train_ada_prob = ada_clf.predict_proba(X_train_ada)\n",
    "y_test_ada_prob = ada_clf.predict_proba(X_test_ada)"
   ]
  },
  {
   "cell_type": "code",
   "execution_count": 102,
   "metadata": {},
   "outputs": [],
   "source": [
    "y_pred_train_ada = ada_clf.predict(X_train_ada)\n",
    "y_pred_test_ada = ada_clf.predict(X_test_ada)"
   ]
  },
  {
   "cell_type": "code",
   "execution_count": 103,
   "metadata": {},
   "outputs": [
    {
     "data": {
      "image/png": "[encoded data removed]",
      "text/plain": [
       "<Figure size 432x288 with 2 Axes>"
      ]
     },
     "metadata": {
      "needs_background": "light"
     },
     "output_type": "display_data"
    }
   ],
   "source": [
    "cm_ada = confusion_matrix(y_test_ada, y_pred_test_ada, labels=ada_clf.classes_)\n",
    "disp_ada = ConfusionMatrixDisplay(confusion_matrix=cm_ada,display_labels=ada_clf.classes_)\n",
    "\n",
    "disp_ada.plot()\n",
    "plt.show()"
   ]
  },
  {
   "cell_type": "markdown",
   "metadata": {},
   "source": [
    "The AdaBoost model could have a predicting outcome of 667 True Negatives (0), 74 True Positives (1), and a False Negative and False Positive of 117 and 32 respectively."
   ]
  },
  {
   "cell_type": "code",
   "execution_count": 104,
   "metadata": {},
   "outputs": [
    {
     "name": "stdout",
     "output_type": "stream",
     "text": [
      "              precision    recall  f1-score   support\n",
      "\n",
      "           0       0.86      0.96      0.91      1631\n",
      "           1       0.75      0.41      0.53       444\n",
      "\n",
      "    accuracy                           0.84      2075\n",
      "   macro avg       0.80      0.69      0.72      2075\n",
      "weighted avg       0.83      0.84      0.83      2075\n",
      "\n",
      "Train ROC-AUC Score:  0.7635321556995377\n"
     ]
    }
   ],
   "source": [
    "print(classification_report(y_train_ada,y_pred_train_ada))\n",
    "print('Train ROC-AUC Score: ', roc_auc_score(y_train_ada, y_train_ada_prob[:,1]))"
   ]
  },
  {
   "cell_type": "code",
   "execution_count": 105,
   "metadata": {},
   "outputs": [
    {
     "name": "stdout",
     "output_type": "stream",
     "text": [
      "              precision    recall  f1-score   support\n",
      "\n",
      "           0       0.85      0.95      0.90       699\n",
      "           1       0.70      0.39      0.50       191\n",
      "\n",
      "    accuracy                           0.83       890\n",
      "   macro avg       0.77      0.67      0.70       890\n",
      "weighted avg       0.82      0.83      0.81       890\n",
      "\n",
      "Test ROC-AUC Score:  0.7708881049217657\n"
     ]
    }
   ],
   "source": [
    "print(classification_report(y_test_ada,y_pred_test_ada))\n",
    "print('Test ROC-AUC Score: ', roc_auc_score(y_test_ada, y_test_ada_prob[:,1]))"
   ]
  },
  {
   "cell_type": "markdown",
   "metadata": {},
   "source": [
    "Looking at the Test Set for the AdaBoost Model, we could conclude that:\n",
    "\n",
    "- Class 0 Recall is 0.95 / 95%\n",
    "- Class 1 Recall is 0.39 / 39%\n",
    "- Dataset is mildly imbalanced at 27%\n",
    "- ROC-AUC score of 76% for Train Set and 77% for Test Set. Assuming that range of 1% determines if model is fit, then we can conclude that this model is just-fit.\n",
    "\n",
    "Class 0 has great recall which means that we only risk very little in terms of outlash in customer relations.\n",
    "\n",
    "We risk financial losses due to poor recall in Class 1."
   ]
  },
  {
   "cell_type": "markdown",
   "metadata": {},
   "source": [
    "## IX. Model Improvement"
   ]
  },
  {
   "cell_type": "code",
   "execution_count": 90,
   "metadata": {},
   "outputs": [
    {
     "name": "stdout",
     "output_type": "stream",
     "text": [
      "Logistic Regression\n",
      "Accuracy - All - Cross Validation  :  [0.82080925 0.82947977 0.84370478]\n",
      "Accuracy - Mean - Cross Validation :  0.8313312643428167\n",
      "Accuracy - Std - Cross Validation  :  0.00943830201946827\n",
      "Accuracy - Range of Test-Set       :  0.8218929623233484 - 0.840769566362285\n",
      "\n",
      "Support Vector Machines (SVM)\n",
      "Accuracy - All - Cross Validation  :  [0.8265896  0.84248555 0.83357453]\n",
      "Accuracy - Mean - Cross Validation :  0.8342165580586065\n",
      "Accuracy - Std - Cross Validation  :  0.0065053560909218095\n",
      "Accuracy - Range of Test-Set       :  0.8277112019676847 - 0.8407219141495283\n",
      "\n",
      "Decision Tree\n",
      "Accuracy - All - Cross Validation  :  [0.81791908 0.8367052  0.82054993]\n",
      "Accuracy - Mean - Cross Validation :  0.8250580683659159\n",
      "Accuracy - Std - Cross Validation  :  0.008305505928224143\n",
      "Accuracy - Range of Test-Set       :  0.8167525624376918 - 0.83336357429414\n",
      "\n",
      "Random Forest\n",
      "Accuracy - All - Cross Validation  :  [0.82803468 0.8367052  0.82633864]\n",
      "Accuracy - Mean - Cross Validation :  0.8303595080152469\n",
      "Accuracy - Std - Cross Validation  :  0.004540192144377998\n",
      "Accuracy - Range of Test-Set       :  0.825819315870869 - 0.8348997001596249\n",
      "\n",
      "K-Nearest Neighbors (KNN)\n",
      "Accuracy - All - Cross Validation  :  [0.8150289  0.83092486 0.80318379]\n",
      "Accuracy - Mean - Cross Validation :  0.8163791829439336\n",
      "Accuracy - Std - Cross Validation  :  0.01136541833447992\n",
      "Accuracy - Range of Test-Set       :  0.8050137646094537 - 0.8277446012784135\n",
      "\n",
      "Naive Bayes\n",
      "Accuracy - All - Cross Validation  :  [0.80635838 0.80924855 0.81765557]\n",
      "Accuracy - Mean - Cross Validation :  0.811087502683832\n",
      "Accuracy - Std - Cross Validation  :  0.004791862748388493\n",
      "Accuracy - Range of Test-Set       :  0.8062956399354435 - 0.8158793654322205\n",
      "\n",
      "AdaBoost\n",
      "Accuracy - All - Cross Validation  :  [0.82803468 0.8482659  0.8422576 ]\n",
      "Accuracy - Mean - Cross Validation :  0.8395193919063991\n",
      "Accuracy - Std - Cross Validation  :  0.008483271061508929\n",
      "Accuracy - Range of Test-Set       :  0.8310361208448902 - 0.848002662967908\n",
      "\n"
     ]
    }
   ],
   "source": [
    "# Cross Validation\n",
    "# Reference: https://bit.ly/3DCjBAG\n",
    "\n",
    "# Obtaining Cross-Validation score.\n",
    "log_cv = cross_val_score(log_model, X_train_log, y_train_log, cv=3, scoring=\"accuracy\")\n",
    "svm_cv = cross_val_score(svm, X_train_svm, y_train_svm, cv=3, scoring=\"accuracy\")\n",
    "tree_cv = cross_val_score(tree_clf, X_train_tree, y_train_tree, cv=3, scoring=\"accuracy\")\n",
    "rnd_cv = cross_val_score(rnd_clf, X_train_rnd, y_train_rnd, cv=3, scoring=\"accuracy\")\n",
    "neigh_cv = cross_val_score(neigh, X_train_neigh, y_train_neigh, cv=3, scoring=\"accuracy\")\n",
    "gnb_cv = cross_val_score(gnb, X_train_gnb, y_train_gnb, cv=3, scoring=\"accuracy\")\n",
    "ada_cv = cross_val_score(ada_clf, X_train_ada, y_train_ada, cv=3, scoring=\"accuracy\")\n",
    "\n",
    "# Using \"For\" loop to shorten code for Cross-Validation score calculations.\n",
    "for cv,name in zip([log_cv, svm_cv, tree_cv, rnd_cv, neigh_cv, gnb_cv, ada_cv],\n",
    "['Logistic Regression','Support Vector Machines (SVM)','Decision Tree','Random Forest','K-Nearest Neighbors (KNN)','Naive Bayes','AdaBoost']):\n",
    "    print(name)\n",
    "    print('Accuracy - All - Cross Validation  : ', cv)\n",
    "    print('Accuracy - Mean - Cross Validation : ', cv.mean())\n",
    "    print('Accuracy - Std - Cross Validation  : ', cv.std())\n",
    "    print('Accuracy - Range of Test-Set       : ', (cv.mean()-cv.std()) , '-', (cv.mean()+cv.std()))\n",
    "    print('')"
   ]
  },
  {
   "cell_type": "markdown",
   "metadata": {},
   "source": [
    "For the Cross-Validation, we are looking at the model with the largest mean and lowest standard deviation. In this case, AdaBoost fits the bill at 0.84 mean and 0.009 standard deviation."
   ]
  },
  {
   "cell_type": "code",
   "execution_count": 91,
   "metadata": {},
   "outputs": [
    {
     "data": {
      "text/html": [
       "<style>#sk-container-id-11 {color: black;background-color: white;}#sk-container-id-11 pre{padding: 0;}#sk-container-id-11 div.sk-toggleable {background-color: white;}#sk-container-id-11 label.sk-toggleable__label {cursor: pointer;display: block;width: 100%;margin-bottom: 0;padding: 0.3em;box-sizing: border-box;text-align: center;}#sk-container-id-11 label.sk-toggleable__label-arrow:before {content: \"▸\";float: left;margin-right: 0.25em;color: #696969;}#sk-container-id-11 label.sk-toggleable__label-arrow:hover:before {color: black;}#sk-container-id-11 div.sk-estimator:hover label.sk-toggleable__label-arrow:before {color: black;}#sk-container-id-11 div.sk-toggleable__content {max-height: 0;max-width: 0;overflow: hidden;text-align: left;background-color: #f0f8ff;}#sk-container-id-11 div.sk-toggleable__content pre {margin: 0.2em;color: black;border-radius: 0.25em;background-color: #f0f8ff;}#sk-container-id-11 input.sk-toggleable__control:checked~div.sk-toggleable__content {max-height: 200px;max-width: 100%;overflow: auto;}#sk-container-id-11 input.sk-toggleable__control:checked~label.sk-toggleable__label-arrow:before {content: \"▾\";}#sk-container-id-11 div.sk-estimator input.sk-toggleable__control:checked~label.sk-toggleable__label {background-color: #d4ebff;}#sk-container-id-11 div.sk-label input.sk-toggleable__control:checked~label.sk-toggleable__label {background-color: #d4ebff;}#sk-container-id-11 input.sk-hidden--visually {border: 0;clip: rect(1px 1px 1px 1px);clip: rect(1px, 1px, 1px, 1px);height: 1px;margin: -1px;overflow: hidden;padding: 0;position: absolute;width: 1px;}#sk-container-id-11 div.sk-estimator {font-family: monospace;background-color: #f0f8ff;border: 1px dotted black;border-radius: 0.25em;box-sizing: border-box;margin-bottom: 0.5em;}#sk-container-id-11 div.sk-estimator:hover {background-color: #d4ebff;}#sk-container-id-11 div.sk-parallel-item::after {content: \"\";width: 100%;border-bottom: 1px solid gray;flex-grow: 1;}#sk-container-id-11 div.sk-label:hover label.sk-toggleable__label {background-color: #d4ebff;}#sk-container-id-11 div.sk-serial::before {content: \"\";position: absolute;border-left: 1px solid gray;box-sizing: border-box;top: 0;bottom: 0;left: 50%;z-index: 0;}#sk-container-id-11 div.sk-serial {display: flex;flex-direction: column;align-items: center;background-color: white;padding-right: 0.2em;padding-left: 0.2em;position: relative;}#sk-container-id-11 div.sk-item {position: relative;z-index: 1;}#sk-container-id-11 div.sk-parallel {display: flex;align-items: stretch;justify-content: center;background-color: white;position: relative;}#sk-container-id-11 div.sk-item::before, #sk-container-id-11 div.sk-parallel-item::before {content: \"\";position: absolute;border-left: 1px solid gray;box-sizing: border-box;top: 0;bottom: 0;left: 50%;z-index: -1;}#sk-container-id-11 div.sk-parallel-item {display: flex;flex-direction: column;z-index: 1;position: relative;background-color: white;}#sk-container-id-11 div.sk-parallel-item:first-child::after {align-self: flex-end;width: 50%;}#sk-container-id-11 div.sk-parallel-item:last-child::after {align-self: flex-start;width: 50%;}#sk-container-id-11 div.sk-parallel-item:only-child::after {width: 0;}#sk-container-id-11 div.sk-dashed-wrapped {border: 1px dashed gray;margin: 0 0.4em 0.5em 0.4em;box-sizing: border-box;padding-bottom: 0.4em;background-color: white;}#sk-container-id-11 div.sk-label label {font-family: monospace;font-weight: bold;display: inline-block;line-height: 1.2em;}#sk-container-id-11 div.sk-label-container {text-align: center;}#sk-container-id-11 div.sk-container {/* jupyter's `normalize.less` sets `[hidden] { display: none; }` but bootstrap.min.css set `[hidden] { display: none !important; }` so we also need the `!important` here to be able to override the default hidden behavior on the sphinx rendered scikit-learn.org. See: https://github.com/scikit-learn/scikit-learn/issues/21755 */display: inline-block !important;position: relative;}#sk-container-id-11 div.sk-text-repr-fallback {display: none;}</style><div id=\"sk-container-id-11\" class=\"sk-top-container\"><div class=\"sk-text-repr-fallback\"><pre>GridSearchCV(estimator=AdaBoostClassifier(random_state=20), n_jobs=-1,\n",
       "             param_grid={&#x27;algorithm&#x27;: [&#x27;SAMME&#x27;, &#x27;SAMME.R&#x27;],\n",
       "                         &#x27;learning_rate&#x27;: [0.001, 0.01, 0.1, 1, 5],\n",
       "                         &#x27;n_estimators&#x27;: [10, 20, 50, 70, 100]})</pre><b>In a Jupyter environment, please rerun this cell to show the HTML representation or trust the notebook. <br />On GitHub, the HTML representation is unable to render, please try loading this page with nbviewer.org.</b></div><div class=\"sk-container\" hidden><div class=\"sk-item sk-dashed-wrapped\"><div class=\"sk-label-container\"><div class=\"sk-label sk-toggleable\"><input class=\"sk-toggleable__control sk-hidden--visually\" id=\"sk-estimator-id-15\" type=\"checkbox\" ><label for=\"sk-estimator-id-15\" class=\"sk-toggleable__label sk-toggleable__label-arrow\">GridSearchCV</label><div class=\"sk-toggleable__content\"><pre>GridSearchCV(estimator=AdaBoostClassifier(random_state=20), n_jobs=-1,\n",
       "             param_grid={&#x27;algorithm&#x27;: [&#x27;SAMME&#x27;, &#x27;SAMME.R&#x27;],\n",
       "                         &#x27;learning_rate&#x27;: [0.001, 0.01, 0.1, 1, 5],\n",
       "                         &#x27;n_estimators&#x27;: [10, 20, 50, 70, 100]})</pre></div></div></div><div class=\"sk-parallel\"><div class=\"sk-parallel-item\"><div class=\"sk-item\"><div class=\"sk-label-container\"><div class=\"sk-label sk-toggleable\"><input class=\"sk-toggleable__control sk-hidden--visually\" id=\"sk-estimator-id-16\" type=\"checkbox\" ><label for=\"sk-estimator-id-16\" class=\"sk-toggleable__label sk-toggleable__label-arrow\">estimator: AdaBoostClassifier</label><div class=\"sk-toggleable__content\"><pre>AdaBoostClassifier(random_state=20)</pre></div></div></div><div class=\"sk-serial\"><div class=\"sk-item\"><div class=\"sk-estimator sk-toggleable\"><input class=\"sk-toggleable__control sk-hidden--visually\" id=\"sk-estimator-id-17\" type=\"checkbox\" ><label for=\"sk-estimator-id-17\" class=\"sk-toggleable__label sk-toggleable__label-arrow\">AdaBoostClassifier</label><div class=\"sk-toggleable__content\"><pre>AdaBoostClassifier(random_state=20)</pre></div></div></div></div></div></div></div></div></div></div>"
      ],
      "text/plain": [
       "GridSearchCV(estimator=AdaBoostClassifier(random_state=20), n_jobs=-1,\n",
       "             param_grid={'algorithm': ['SAMME', 'SAMME.R'],\n",
       "                         'learning_rate': [0.001, 0.01, 0.1, 1, 5],\n",
       "                         'n_estimators': [10, 20, 50, 70, 100]})"
      ]
     },
     "execution_count": 91,
     "metadata": {},
     "output_type": "execute_result"
    }
   ],
   "source": [
    "# Train with Grid Search\n",
    "\n",
    "# Parameters to be tested.\n",
    "param_grid = {'learning_rate' : [0.001, 0.01, 0.1, 1, 5], 'n_estimators': [10, 20, 50, 70, 100], 'algorithm' : ['SAMME', 'SAMME.R']}\n",
    "\n",
    "# Defining Model to be used.\n",
    "ada_gridcv = GridSearchCV(estimator=AdaBoostClassifier(random_state=20), param_grid=param_grid, n_jobs=-1)\n",
    "\n",
    "# Training dataset.\n",
    "ada_gridcv.fit(X_train_ada, y_train_ada)"
   ]
  },
  {
   "cell_type": "code",
   "execution_count": 92,
   "metadata": {},
   "outputs": [
    {
     "name": "stdout",
     "output_type": "stream",
     "text": [
      "AdaBoostClassifier(algorithm='SAMME', learning_rate=0.1, n_estimators=20,\n",
      "                   random_state=20)\n"
     ]
    }
   ],
   "source": [
    "print(ada_gridcv.best_estimator_)"
   ]
  },
  {
   "cell_type": "code",
   "execution_count": 93,
   "metadata": {},
   "outputs": [],
   "source": [
    "# Redefining Model\n",
    "ada2 = AdaBoostClassifier(algorithm='SAMME', learning_rate=0.1, n_estimators=20, random_state=20)"
   ]
  },
  {
   "cell_type": "code",
   "execution_count": 94,
   "metadata": {},
   "outputs": [],
   "source": [
    "# Defining X_train, X_test, y_train, and y_test for Random Forest model.\n",
    "X_train_ada2 = X_train\n",
    "X_test_ada2  = X_test\n",
    "y_train_ada2  = y_train\n",
    "y_test_ada2 = y_test"
   ]
  },
  {
   "cell_type": "code",
   "execution_count": 95,
   "metadata": {},
   "outputs": [
    {
     "data": {
      "text/html": [
       "<style>#sk-container-id-12 {color: black;background-color: white;}#sk-container-id-12 pre{padding: 0;}#sk-container-id-12 div.sk-toggleable {background-color: white;}#sk-container-id-12 label.sk-toggleable__label {cursor: pointer;display: block;width: 100%;margin-bottom: 0;padding: 0.3em;box-sizing: border-box;text-align: center;}#sk-container-id-12 label.sk-toggleable__label-arrow:before {content: \"▸\";float: left;margin-right: 0.25em;color: #696969;}#sk-container-id-12 label.sk-toggleable__label-arrow:hover:before {color: black;}#sk-container-id-12 div.sk-estimator:hover label.sk-toggleable__label-arrow:before {color: black;}#sk-container-id-12 div.sk-toggleable__content {max-height: 0;max-width: 0;overflow: hidden;text-align: left;background-color: #f0f8ff;}#sk-container-id-12 div.sk-toggleable__content pre {margin: 0.2em;color: black;border-radius: 0.25em;background-color: #f0f8ff;}#sk-container-id-12 input.sk-toggleable__control:checked~div.sk-toggleable__content {max-height: 200px;max-width: 100%;overflow: auto;}#sk-container-id-12 input.sk-toggleable__control:checked~label.sk-toggleable__label-arrow:before {content: \"▾\";}#sk-container-id-12 div.sk-estimator input.sk-toggleable__control:checked~label.sk-toggleable__label {background-color: #d4ebff;}#sk-container-id-12 div.sk-label input.sk-toggleable__control:checked~label.sk-toggleable__label {background-color: #d4ebff;}#sk-container-id-12 input.sk-hidden--visually {border: 0;clip: rect(1px 1px 1px 1px);clip: rect(1px, 1px, 1px, 1px);height: 1px;margin: -1px;overflow: hidden;padding: 0;position: absolute;width: 1px;}#sk-container-id-12 div.sk-estimator {font-family: monospace;background-color: #f0f8ff;border: 1px dotted black;border-radius: 0.25em;box-sizing: border-box;margin-bottom: 0.5em;}#sk-container-id-12 div.sk-estimator:hover {background-color: #d4ebff;}#sk-container-id-12 div.sk-parallel-item::after {content: \"\";width: 100%;border-bottom: 1px solid gray;flex-grow: 1;}#sk-container-id-12 div.sk-label:hover label.sk-toggleable__label {background-color: #d4ebff;}#sk-container-id-12 div.sk-serial::before {content: \"\";position: absolute;border-left: 1px solid gray;box-sizing: border-box;top: 0;bottom: 0;left: 50%;z-index: 0;}#sk-container-id-12 div.sk-serial {display: flex;flex-direction: column;align-items: center;background-color: white;padding-right: 0.2em;padding-left: 0.2em;position: relative;}#sk-container-id-12 div.sk-item {position: relative;z-index: 1;}#sk-container-id-12 div.sk-parallel {display: flex;align-items: stretch;justify-content: center;background-color: white;position: relative;}#sk-container-id-12 div.sk-item::before, #sk-container-id-12 div.sk-parallel-item::before {content: \"\";position: absolute;border-left: 1px solid gray;box-sizing: border-box;top: 0;bottom: 0;left: 50%;z-index: -1;}#sk-container-id-12 div.sk-parallel-item {display: flex;flex-direction: column;z-index: 1;position: relative;background-color: white;}#sk-container-id-12 div.sk-parallel-item:first-child::after {align-self: flex-end;width: 50%;}#sk-container-id-12 div.sk-parallel-item:last-child::after {align-self: flex-start;width: 50%;}#sk-container-id-12 div.sk-parallel-item:only-child::after {width: 0;}#sk-container-id-12 div.sk-dashed-wrapped {border: 1px dashed gray;margin: 0 0.4em 0.5em 0.4em;box-sizing: border-box;padding-bottom: 0.4em;background-color: white;}#sk-container-id-12 div.sk-label label {font-family: monospace;font-weight: bold;display: inline-block;line-height: 1.2em;}#sk-container-id-12 div.sk-label-container {text-align: center;}#sk-container-id-12 div.sk-container {/* jupyter's `normalize.less` sets `[hidden] { display: none; }` but bootstrap.min.css set `[hidden] { display: none !important; }` so we also need the `!important` here to be able to override the default hidden behavior on the sphinx rendered scikit-learn.org. See: https://github.com/scikit-learn/scikit-learn/issues/21755 */display: inline-block !important;position: relative;}#sk-container-id-12 div.sk-text-repr-fallback {display: none;}</style><div id=\"sk-container-id-12\" class=\"sk-top-container\"><div class=\"sk-text-repr-fallback\"><pre>AdaBoostClassifier(algorithm=&#x27;SAMME&#x27;, learning_rate=0.1, n_estimators=20,\n",
       "                   random_state=20)</pre><b>In a Jupyter environment, please rerun this cell to show the HTML representation or trust the notebook. <br />On GitHub, the HTML representation is unable to render, please try loading this page with nbviewer.org.</b></div><div class=\"sk-container\" hidden><div class=\"sk-item\"><div class=\"sk-estimator sk-toggleable\"><input class=\"sk-toggleable__control sk-hidden--visually\" id=\"sk-estimator-id-18\" type=\"checkbox\" checked><label for=\"sk-estimator-id-18\" class=\"sk-toggleable__label sk-toggleable__label-arrow\">AdaBoostClassifier</label><div class=\"sk-toggleable__content\"><pre>AdaBoostClassifier(algorithm=&#x27;SAMME&#x27;, learning_rate=0.1, n_estimators=20,\n",
       "                   random_state=20)</pre></div></div></div></div></div>"
      ],
      "text/plain": [
       "AdaBoostClassifier(algorithm='SAMME', learning_rate=0.1, n_estimators=20,\n",
       "                   random_state=20)"
      ]
     },
     "execution_count": 95,
     "metadata": {},
     "output_type": "execute_result"
    }
   ],
   "source": [
    "# Training AdaBoost model.\n",
    "ada2.fit(X_train_ada2, y_train_ada2)"
   ]
  },
  {
   "cell_type": "code",
   "execution_count": 106,
   "metadata": {},
   "outputs": [],
   "source": [
    "y_train_ada_prob2 = ada2.predict_proba(X_train_ada2)\n",
    "y_test_ada_prob2 = ada2.predict_proba(X_test_ada2)"
   ]
  },
  {
   "cell_type": "code",
   "execution_count": 107,
   "metadata": {},
   "outputs": [],
   "source": [
    "y_pred_train_ada2 = ada2.predict(X_train_ada2)\n",
    "y_pred_test_ada2 = ada2.predict(X_test_ada2)"
   ]
  },
  {
   "cell_type": "code",
   "execution_count": 108,
   "metadata": {},
   "outputs": [
    {
     "data": {
      "image/png": "[encoded data removed]",
      "text/plain": [
       "<Figure size 432x288 with 2 Axes>"
      ]
     },
     "metadata": {
      "needs_background": "light"
     },
     "output_type": "display_data"
    }
   ],
   "source": [
    "# AdaBoost Model Confusion Matrix before GridSearchCV / Hyperparameter tuning.\n",
    "disp_ada.plot()\n",
    "plt.show()"
   ]
  },
  {
   "cell_type": "code",
   "execution_count": 109,
   "metadata": {},
   "outputs": [
    {
     "data": {
      "image/png": "[encoded data removed]",
      "text/plain": [
       "<Figure size 432x288 with 2 Axes>"
      ]
     },
     "metadata": {
      "needs_background": "light"
     },
     "output_type": "display_data"
    }
   ],
   "source": [
    "# AdaBoost Model Confusion Matrix after GridSearchCV / Hyperparameter tuning.\n",
    "cm_ada2 = confusion_matrix(y_test_ada2, y_pred_test_ada2, labels=ada2.classes_)\n",
    "disp_ada2 = ConfusionMatrixDisplay(confusion_matrix=cm_ada2,display_labels=ada2.classes_)\n",
    "\n",
    "disp_ada2.plot()\n",
    "plt.show()"
   ]
  },
  {
   "cell_type": "markdown",
   "metadata": {},
   "source": [
    "Comparing the two confusion matrix of the AdaBoost model before and after parameter tuning, we can see that the only change is on the True Negative (0), where the value has changed from 667 to 666, whilst the False Positive changed from 33 to 32."
   ]
  },
  {
   "cell_type": "code",
   "execution_count": 110,
   "metadata": {},
   "outputs": [
    {
     "name": "stdout",
     "output_type": "stream",
     "text": [
      "              precision    recall  f1-score   support\n",
      "\n",
      "           0       0.86      0.96      0.91      1631\n",
      "           1       0.75      0.41      0.53       444\n",
      "\n",
      "    accuracy                           0.84      2075\n",
      "   macro avg       0.80      0.69      0.72      2075\n",
      "weighted avg       0.83      0.84      0.83      2075\n",
      "\n",
      "Train ROC-AUC Score:  0.7635321556995377\n"
     ]
    }
   ],
   "source": [
    "# Before Hyperparameter tuning.\n",
    "print(classification_report(y_train_ada,y_pred_train_ada))\n",
    "print('Train ROC-AUC Score: ', roc_auc_score(y_train_ada, y_train_ada_prob[:,1]))"
   ]
  },
  {
   "cell_type": "code",
   "execution_count": 111,
   "metadata": {},
   "outputs": [
    {
     "name": "stdout",
     "output_type": "stream",
     "text": [
      "              precision    recall  f1-score   support\n",
      "\n",
      "           0       0.85      0.96      0.91      1631\n",
      "           1       0.74      0.40      0.52       444\n",
      "\n",
      "    accuracy                           0.84      2075\n",
      "   macro avg       0.80      0.68      0.71      2075\n",
      "weighted avg       0.83      0.84      0.82      2075\n",
      "\n",
      "Train ROC-AUC Score:  0.7495850387481289\n"
     ]
    }
   ],
   "source": [
    "# After Hyperparameter tuning.\n",
    "print(classification_report(y_train_ada2,y_pred_train_ada2))\n",
    "print('Train ROC-AUC Score: ', roc_auc_score(y_train_ada2, y_train_ada_prob2[:,1]))"
   ]
  },
  {
   "cell_type": "code",
   "execution_count": 112,
   "metadata": {},
   "outputs": [
    {
     "name": "stdout",
     "output_type": "stream",
     "text": [
      "              precision    recall  f1-score   support\n",
      "\n",
      "           0       0.85      0.95      0.90       699\n",
      "           1       0.70      0.39      0.50       191\n",
      "\n",
      "    accuracy                           0.83       890\n",
      "   macro avg       0.77      0.67      0.70       890\n",
      "weighted avg       0.82      0.83      0.81       890\n",
      "\n",
      "Test ROC-AUC Score:  0.7708881049217657\n"
     ]
    }
   ],
   "source": [
    "# Before Hyperparameter tuning.\n",
    "print(classification_report(y_test_ada,y_pred_test_ada))\n",
    "print('Test ROC-AUC Score: ', roc_auc_score(y_test_ada, y_test_ada_prob[:,1]))"
   ]
  },
  {
   "cell_type": "code",
   "execution_count": 113,
   "metadata": {},
   "outputs": [
    {
     "name": "stdout",
     "output_type": "stream",
     "text": [
      "              precision    recall  f1-score   support\n",
      "\n",
      "           0       0.85      0.95      0.90       699\n",
      "           1       0.69      0.39      0.50       191\n",
      "\n",
      "    accuracy                           0.83       890\n",
      "   macro avg       0.77      0.67      0.70       890\n",
      "weighted avg       0.82      0.83      0.81       890\n",
      "\n",
      "Test ROC-AUC Score:  0.7633268169187097\n"
     ]
    }
   ],
   "source": [
    "# After Hyperparameter tuning.\n",
    "print(classification_report(y_test_ada2,y_pred_test_ada2))\n",
    "print('Test ROC-AUC Score: ', roc_auc_score(y_test_ada2, y_test_ada_prob2[:,1]))"
   ]
  },
  {
   "cell_type": "markdown",
   "metadata": {},
   "source": [
    "Comparing the Test Sets for the Naive Bayes Model, we could conclude that:\n",
    "\n",
    "- Class 0 Recall is 0.95 / 95% for AdaBoost model prior to hyperparameter tuning.\n",
    "- Class 0 Recall is the same at 0.95 / 95% for AdaBoost model after hyperparameter tuning.\n",
    "- Class 1 Recall is 0.39 / 39% for AdaBoost model prior to hyperparameter tuning.\n",
    "- Class 1 Recall is the same at 0.39 / 39% for AdaBoost model after hyperparameter tuning.\n",
    "- Dataset is mildly imbalanced at 27%\n",
    "- ROC-AUC score of 76% for Train Set and 77% for Test Set of AdaBoost model prior to hyperparameter tuning. This model is thus just-fit. \n",
    "- For AdaBoost model after hyperparameter tuning, the ROC-AUC score is 74.9% for Train Set and 76.3% for Test Set. This model is slightly underfit.\n",
    "\n",
    "Class 0 has great recall which means that we only risk very little in terms of outlash in customer relations.\n",
    "\n",
    "We still risk financial losses due to poor recall in Class 1."
   ]
  },
  {
   "cell_type": "markdown",
   "metadata": {},
   "source": [
    "## X. Model Inference"
   ]
  },
  {
   "cell_type": "code",
   "execution_count": 374,
   "metadata": {},
   "outputs": [
    {
     "name": "stdout",
     "output_type": "stream",
     "text": [
      "   pay_0  pay_2  pay_3  pay_4  pay_5  pay_6\n",
      "0      0      0      2      0      0      0\n",
      "1      0      0      0      0      0      6\n",
      "2      1      0      0      0      0      0\n",
      "3     -1      0      0      2      0      0\n",
      "4     -2      0      0      0      0      4\n",
      "5      1      2      3      4      5      6\n"
     ]
    }
   ],
   "source": [
    "# Create Inference Data\n",
    "inf_trial = pd.DataFrame([[0,0,2,0,0,0], [0,0,0,0,0,6], [1,0,0,0,0,0], [-1,0,0,2,0,0], [-2,0,0,0,0,4], [1,2,3,4,5,6]],\n",
    "     columns=['pay_0','pay_2','pay_3', 'pay_4', 'pay_5', 'pay_6'])\n",
    "print(inf_trial)"
   ]
  },
  {
   "cell_type": "code",
   "execution_count": 377,
   "metadata": {},
   "outputs": [
    {
     "data": {
      "text/html": [
       "<div>\n",
       "<style scoped>\n",
       "    .dataframe tbody tr th:only-of-type {\n",
       "        vertical-align: middle;\n",
       "    }\n",
       "\n",
       "    .dataframe tbody tr th {\n",
       "        vertical-align: top;\n",
       "    }\n",
       "\n",
       "    .dataframe thead th {\n",
       "        text-align: right;\n",
       "    }\n",
       "</style>\n",
       "<table border=\"1\" class=\"dataframe\">\n",
       "  <thead>\n",
       "    <tr style=\"text-align: right;\">\n",
       "      <th></th>\n",
       "      <th>0</th>\n",
       "    </tr>\n",
       "  </thead>\n",
       "  <tbody>\n",
       "    <tr>\n",
       "      <th>0</th>\n",
       "      <td>0</td>\n",
       "    </tr>\n",
       "    <tr>\n",
       "      <th>1</th>\n",
       "      <td>0</td>\n",
       "    </tr>\n",
       "    <tr>\n",
       "      <th>2</th>\n",
       "      <td>0</td>\n",
       "    </tr>\n",
       "    <tr>\n",
       "      <th>3</th>\n",
       "      <td>0</td>\n",
       "    </tr>\n",
       "    <tr>\n",
       "      <th>4</th>\n",
       "      <td>0</td>\n",
       "    </tr>\n",
       "    <tr>\n",
       "      <th>5</th>\n",
       "      <td>1</td>\n",
       "    </tr>\n",
       "  </tbody>\n",
       "</table>\n",
       "</div>"
      ],
      "text/plain": [
       "   0\n",
       "0  0\n",
       "1  0\n",
       "2  0\n",
       "3  0\n",
       "4  0\n",
       "5  1"
      ]
     },
     "execution_count": 377,
     "metadata": {},
     "output_type": "execute_result"
    }
   ],
   "source": [
    "# Predicting outcome using Naive Bayes Model (before Hyperparameter tuning).\n",
    "pred_inf_gnb = gnb_clf.predict(inf_trial)\n",
    "pred_inf_gnb = pd.DataFrame(pred_inf_gnb)\n",
    "pred_inf_gnb"
   ]
  },
  {
   "cell_type": "code",
   "execution_count": 378,
   "metadata": {},
   "outputs": [
    {
     "data": {
      "text/html": [
       "<div>\n",
       "<style scoped>\n",
       "    .dataframe tbody tr th:only-of-type {\n",
       "        vertical-align: middle;\n",
       "    }\n",
       "\n",
       "    .dataframe tbody tr th {\n",
       "        vertical-align: top;\n",
       "    }\n",
       "\n",
       "    .dataframe thead th {\n",
       "        text-align: right;\n",
       "    }\n",
       "</style>\n",
       "<table border=\"1\" class=\"dataframe\">\n",
       "  <thead>\n",
       "    <tr style=\"text-align: right;\">\n",
       "      <th></th>\n",
       "      <th>0</th>\n",
       "    </tr>\n",
       "  </thead>\n",
       "  <tbody>\n",
       "    <tr>\n",
       "      <th>0</th>\n",
       "      <td>0</td>\n",
       "    </tr>\n",
       "    <tr>\n",
       "      <th>1</th>\n",
       "      <td>0</td>\n",
       "    </tr>\n",
       "    <tr>\n",
       "      <th>2</th>\n",
       "      <td>0</td>\n",
       "    </tr>\n",
       "    <tr>\n",
       "      <th>3</th>\n",
       "      <td>0</td>\n",
       "    </tr>\n",
       "    <tr>\n",
       "      <th>4</th>\n",
       "      <td>0</td>\n",
       "    </tr>\n",
       "    <tr>\n",
       "      <th>5</th>\n",
       "      <td>1</td>\n",
       "    </tr>\n",
       "  </tbody>\n",
       "</table>\n",
       "</div>"
      ],
      "text/plain": [
       "   0\n",
       "0  0\n",
       "1  0\n",
       "2  0\n",
       "3  0\n",
       "4  0\n",
       "5  1"
      ]
     },
     "execution_count": 378,
     "metadata": {},
     "output_type": "execute_result"
    }
   ],
   "source": [
    "# Predicting outcome using Naive Bayes Model (after Hyperparameter tuning).\n",
    "pred_inf_ada2 = ada2.predict(inf_trial)\n",
    "pred_inf_ada2 = pd.DataFrame(pred_inf_ada2)\n",
    "pred_inf_ada2"
   ]
  },
  {
   "cell_type": "markdown",
   "metadata": {},
   "source": [
    "The AdaBoost model that has not been and has been hyperparameter tuned predicts the same outcome for the inference data we have created."
   ]
  },
  {
   "cell_type": "markdown",
   "metadata": {},
   "source": [
    "## XI. Conclusion"
   ]
  },
  {
   "cell_type": "markdown",
   "metadata": {},
   "source": [
    "The dataset used to in this Milestone is mildly imbalanced, where the target outcome Class 1 has only 27% of entries in the entire dataset. For the metric for our classification report and ROC-AUC score, we will be focusing at the Recall. \n",
    "\n",
    "There are two forms of recalls: One where the Positive Outcome is Class 0, and the other where the Positive Outcome is Class 1. To elaborate, Class 0 means that a customer's credit card will not be defaulted, whilst Class 1 is the opposite. Hence, we are looking at these two scenarios:\n",
    "\n",
    "- Scenario 1 = Class 0 Recall discusses the accuracy in which our model correctly predicts to NOT DEFAULT a customer's credit card.\n",
    "- Scenario 2 = Class 1 Recall discusses the accuracy in which our model correctly predicts to DEFAULT a customer's credit card.\n",
    "\n",
    "Recall is in percentage. We will only be looking the recalls for the Test Set as it is a crucial parameter. \n",
    "\n",
    "These two scenarios have damaging consequences in which a poor recall in scenario 1 would mean that we are impacting customer relations by INCORRECTLY defaulting credit cards. This could lead to poor customer retention. Poor recall in scenario 2 would mean that we are risking ourselves financially by INCORRECTLY NOT defaulting cards, which leaves previous bills unpaid and also let customers able to use the card, leading to unforeseen consequences. Therefore, we would want these two recall values to be as close to 100% as possible.\n",
    "\n",
    "To summarize, all our models have high recalls for Class 0, with all above 90%. However, all of them have poor recalls for Class 1, with most ranging between 39 - 47%. As such, we will be focusing on the recalls for Class 1 and rank the models from worst to best:\n",
    "\n",
    "Decision Tree Model:\n",
    "\n",
    "- Class 0 Recall is 0.94 / 94%\n",
    "- Class 1 Recall is 0.39 / 39%\n",
    "\n",
    "SVM Model:\n",
    "\n",
    "- Class 0 Recall is 0.95 / 95%\n",
    "- Class 1 Recall is 0.42 / 42%\n",
    "\n",
    "AdaBoost Model:\n",
    "\n",
    "- Class 0 Recall is 0.95 / 95%\n",
    "- Class 1 Recall is 0.39 / 39%\n",
    "\n",
    "K-Nearest Neighbors (KNN) Model:\n",
    "\n",
    "- Class 0 Recall is 0.92 / 92%\n",
    "- Class 1 Recall is 0.40 / 40%\n",
    "\n",
    "Random Forest Model:\n",
    "\n",
    "- Class 0 Recall is 0.94 / 94%\n",
    "- Class 1 Recall is 0.40 / 40%\n",
    "\n",
    "Naive Bayes Model:\n",
    "\n",
    "- Class 0 Recall is 0.92 / 92%\n",
    "- Class 1 Recall is 0.47 / 47%\n",
    "\n",
    "All models have a tendency to INCORRECTLY NOT default credit cards when in fact customers have not completed payment for their previous monthly bills, which could lead financial losses. This problem is attributed to the class imbalance as mentioned above.\n",
    "\n",
    "Looking at the ROC-AUC Scores for all models, we could also conclude that most models are overfit, with Naive Bayes the only model to underfit, and AdaBoost the only one to be just-fit. \n",
    "\n",
    "Using the Cross-Validation score, we could find which model has the highest potential in regards to being Hyperparameter tuned. In this case, we are looking for a model which has a high mean but low standard deviation. With that, we ascertain that the AdaBoost model is the one that meets both criteria.\n",
    "\n",
    "AdaBoost is an interesting Boosting model, as it uses the Decision Tree model as a basis but enhances its performance. It is best used with weak learners / Decision Trees with one level. However, this would not affect the outcome parameters much as we would see next.\n",
    "\n",
    "After using GridSearchCV to find the best hyperparameters for the AdaBoost Model, we obtain this output:\n",
    "\n",
    "- Best Hyperparameters = (algorithm='SAMME', learning_rate=0.1, n_estimators=20, random_state=20)\n",
    "- Class 0 Recall is 0.95 / 95% (No Change)\n",
    "- Class 1 Recall is 0.39 / 39% (No Change)\n",
    "- The model becomes underfit.\n",
    "\n",
    "Even after we have done hyperparameter tuning, we still find that the model remains unchanged in the improvement of its recall. This is due to the imbalance of the Classes in our dataset. The only way to improve the situation is to enact a balancing, with either Classic or Synthetic techniques possible. In addition, we could see that the model becomes underfit from just-fit. Perhaps more hyperparameter tweaking may lead to a better fit again, although underfitting is still more preferrable than overfitting. In any case, the underfit falls at only about 1.4%, which means it is only ever so slightly underfit."
   ]
  }
 ],
 "metadata": {
  "kernelspec": {
   "display_name": "Python 3.9.12 ('base')",
   "language": "python",
   "name": "python3"
  },
  "language_info": {
   "codemirror_mode": {
    "name": "ipython",
    "version": 3
   },
   "file_extension": ".py",
   "mimetype": "text/x-python",
   "name": "python",
   "nbconvert_exporter": "python",
   "pygments_lexer": "ipython3",
   "version": "3.9.12"
  },
  "orig_nbformat": 4,
  "vscode": {
   "interpreter": {
    "hash": "fb26c2799632769ff949349bdf197b904ff929545fca6b113524e62029cfec5d"
   }
  }
 },
 "nbformat": 4,
 "nbformat_minor": 2
}
